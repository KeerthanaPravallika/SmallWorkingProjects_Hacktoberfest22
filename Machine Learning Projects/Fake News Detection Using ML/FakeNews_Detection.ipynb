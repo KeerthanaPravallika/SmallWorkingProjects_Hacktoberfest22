{
  "cells": [
    {
      "cell_type": "markdown",
      "source": [
        "#**FAKE NEWS ANALYSIS**\n",
        "\n",
        "---\n",
        "\n"
      ],
      "metadata": {
        "id": "uSpsauwOF3Ke"
      }
    },
    {
      "cell_type": "markdown",
      "source": [
        "#**Importing** **packages**"
      ],
      "metadata": {
        "id": "dPvyhA5w1AIl"
      }
    },
    {
      "cell_type": "code",
      "execution_count": null,
      "metadata": {
        "id": "l3-d482xgNdO"
      },
      "outputs": [],
      "source": [
        "#importing packages\n",
        "import pandas as pd\n",
        "import numpy as np\n",
        "import matplotlib.pyplot as plt   \n",
        "import seaborn as sns\n",
        "\n",
        "\n"
      ]
    },
    {
      "cell_type": "code",
      "source": [
        "from IPython.core.display import HTML\n",
        "from wordcloud import WordCloud\n",
        "from sklearn.feature_extraction.text import TfidfVectorizer\n",
        "from sklearn.model_selection import train_test_split\n",
        "from sklearn import metrics\n",
        "from sklearn.ensemble import RandomForestClassifier, AdaBoostClassifier\n",
        "from sklearn.tree import DecisionTreeClassifier\n",
        "from datetime import datetime\n",
        "from sklearn.feature_extraction.text import CountVectorizer\n",
        "from pandas import DataFrame\n",
        "from collections import OrderedDict \n"
      ],
      "metadata": {
        "id": "jO3tP2TR5tEf"
      },
      "execution_count": null,
      "outputs": []
    },
    {
      "cell_type": "code",
      "execution_count": null,
      "metadata": {
        "id": "L85EGbEqgnQm"
      },
      "outputs": [],
      "source": [
        "#install kaggle\n",
        "!pip install -q kaggle"
      ]
    },
    {
      "cell_type": "code",
      "execution_count": null,
      "metadata": {
        "colab": {
          "base_uri": "https://localhost:8080/",
          "height": 91,
          "resources": {
            "http://localhost:8080/nbextensions/google.colab/files.js": {
              "data": "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",
              "headers": [
                [
                  "content-type",
                  "application/javascript"
                ]
              ],
              "ok": true,
              "status": 200,
              "status_text": ""
            }
          }
        },
        "id": "azdmAfGRgqKe",
        "outputId": "bbf7aa6b-2ade-4f13-88d9-1292c785614c"
      },
      "outputs": [
        {
          "output_type": "display_data",
          "data": {
            "text/plain": [
              "<IPython.core.display.HTML object>"
            ],
            "text/html": [
              "\n",
              "     <input type=\"file\" id=\"files-7a01dc24-e043-4cfa-8914-56213d68e576\" name=\"files[]\" multiple disabled\n",
              "        style=\"border:none\" />\n",
              "     <output id=\"result-7a01dc24-e043-4cfa-8914-56213d68e576\">\n",
              "      Upload widget is only available when the cell has been executed in the\n",
              "      current browser session. Please rerun this cell to enable.\n",
              "      </output>\n",
              "      <script src=\"/nbextensions/google.colab/files.js\"></script> "
            ]
          },
          "metadata": {}
        },
        {
          "output_type": "stream",
          "name": "stdout",
          "text": [
            "Saving kaggle.json to kaggle.json\n"
          ]
        },
        {
          "output_type": "execute_result",
          "data": {
            "text/plain": [
              "{'kaggle.json': b'{\"username\":\"shubhangityagi\",\"key\":\"886dae5912f542a08a2443d552e5c806\"}'}"
            ]
          },
          "metadata": {},
          "execution_count": 10
        }
      ],
      "source": [
        "from google.colab import files\n",
        "files.upload()"
      ]
    },
    {
      "cell_type": "code",
      "execution_count": null,
      "metadata": {
        "id": "47jTsWGVgzTY",
        "colab": {
          "base_uri": "https://localhost:8080/"
        },
        "outputId": "7261cc1d-aa19-42dd-9e5a-09c2ffdbb11b"
      },
      "outputs": [
        {
          "output_type": "stream",
          "name": "stdout",
          "text": [
            "mkdir: cannot create directory ‘/root/.kaggle’: File exists\n"
          ]
        }
      ],
      "source": [
        "#create a kaggle folder\n",
        "! mkdir ~/.kaggle"
      ]
    },
    {
      "cell_type": "code",
      "execution_count": null,
      "metadata": {
        "id": "hlWJKrdmg9ft"
      },
      "outputs": [],
      "source": [
        "#copy kaggle.json file to folder created\n",
        "! cp kaggle.json ~/.kaggle/"
      ]
    },
    {
      "cell_type": "code",
      "execution_count": null,
      "metadata": {
        "id": "dAzNOuQahAUc"
      },
      "outputs": [],
      "source": [
        "#permission for json to act\n",
        "! chmod 600 ~/.kaggle/kaggle.json"
      ]
    },
    {
      "cell_type": "code",
      "execution_count": null,
      "metadata": {
        "colab": {
          "base_uri": "https://localhost:8080/"
        },
        "id": "2WSG7YtFhD3I",
        "outputId": "704d0809-e697-4624-c086-466cddf37f8a"
      },
      "outputs": [
        {
          "output_type": "stream",
          "name": "stdout",
          "text": [
            "ref                                                       title                                               size  lastUpdated          downloadCount  voteCount  usabilityRating  \n",
            "--------------------------------------------------------  -------------------------------------------------  -----  -------------------  -------------  ---------  ---------------  \n",
            "ruchi798/data-science-job-salaries                        Data Science Job Salaries                            7KB  2022-06-15 08:59:12           8016        267  1.0              \n",
            "surajjha101/bigbasket-entire-product-list-28k-datapoints  BigBasket Entire Product List (~28K datapoints)      6MB  2022-06-22 12:51:18           2830        113  1.0              \n",
            "victorsoeiro/netflix-tv-shows-and-movies                  Netflix TV Shows and Movies                          2MB  2022-05-15 00:01:23          17727        505  1.0              \n",
            "sameepvani/nasa-nearest-earth-objects                     NASA - Nearest Earth Objects                         7MB  2022-06-17 02:32:18           2703        123  1.0              \n",
            "zusmani/petrolgas-prices-worldwide                        Petrol/Gas Prices Worldwide                         10KB  2022-06-24 01:25:33           2537        121  1.0              \n",
            "mukuldeshantri/ecommerce-fashion-dataset                  E-commerce Dataset with 30K Products               546KB  2022-07-08 12:28:18            881         35  1.0              \n",
            "jimschacko/airlines-dataset-to-predict-a-delay            Airlines Dataset to predict a delay                  6MB  2022-06-21 05:45:44           2449         64  1.0              \n",
            "iamsouravbanerjee/nifty500-stocks-dataset                 Stock Market Dataset (NIFTY-500)                    35KB  2022-07-17 11:46:10            847         65  1.0              \n",
            "zusmani/pakistans-national-assembly-attendance-20182022   Pakistan's National Assembly Attendance 2018-2022    2MB  2022-07-15 03:33:32            261         33  0.88235295       \n",
            "dansbecker/melbourne-housing-snapshot                     Melbourne Housing Snapshot                         451KB  2018-06-05 12:52:24          91452       1112  0.7058824        \n",
            "ramjasmaurya/1-gb-internet-price                          Internet Prices around 200+ countries in 2022.      22KB  2022-07-17 02:56:12           1435         48  0.9705882        \n",
            "datasnaek/youtube-new                                     Trending YouTube Video Statistics                  201MB  2019-06-03 00:56:47         179580       4606  0.7941176        \n",
            "zynicide/wine-reviews                                     Wine Reviews                                        51MB  2017-11-27 17:08:04         163305       3335  0.7941176        \n",
            "deepcontractor/car-price-prediction-challenge             Car Price Prediction Challenge                     429KB  2022-07-06 11:38:32            691         47  0.9411765        \n",
            "datasnaek/chess                                           Chess Game Dataset (Lichess)                         3MB  2017-09-04 03:09:09          30535       1019  0.8235294        \n",
            "rtatman/188-million-us-wildfires                          1.88 Million US Wildfires                          168MB  2020-05-12 21:03:49          20748       1021  0.8235294        \n",
            "residentmario/ramen-ratings                               Ramen Ratings                                       40KB  2018-01-11 16:04:39          34866        793  0.7058824        \n",
            "dansbecker/powerlifting-database                          powerlifting-database                                9MB  2019-04-30 21:07:41           4956         60  0.5882353        \n",
            "jpmiller/publicassistance                                 US Public Food Assistance                          703KB  2020-08-21 16:51:18          16658        396  0.9117647        \n",
            "nasa/kepler-exoplanet-search-results                      Kepler Exoplanet Search Results                      1MB  2017-10-10 18:26:59          10654        664  0.8235294        \n"
          ]
        }
      ],
      "source": [
        "\n",
        "#to list dataset in kaggle\n",
        "! kaggle datasets list"
      ]
    },
    {
      "cell_type": "markdown",
      "source": [
        "#**Downloading Dataset**"
      ],
      "metadata": {
        "id": "suR4rCWFO8hG"
      }
    },
    {
      "cell_type": "code",
      "execution_count": null,
      "metadata": {
        "colab": {
          "base_uri": "https://localhost:8080/"
        },
        "id": "9j5D5xg-hGnu",
        "outputId": "b1a2f6b6-218c-4f62-a951-c209e33ea448"
      },
      "outputs": [
        {
          "output_type": "stream",
          "name": "stdout",
          "text": [
            "Downloading source-based-news-classification.zip to /content\n",
            "\r  0% 0.00/2.97M [00:00<?, ?B/s]\n",
            "\r100% 2.97M/2.97M [00:00<00:00, 155MB/s]\n"
          ]
        }
      ],
      "source": [
        "! kaggle datasets download -d ruchi798/source-based-news-classification"
      ]
    },
    {
      "cell_type": "code",
      "execution_count": null,
      "metadata": {
        "colab": {
          "base_uri": "https://localhost:8080/"
        },
        "id": "QcGOQ-zihYiy",
        "outputId": "e54b0224-225e-415c-af53-b7b2028fbbf0"
      },
      "outputs": [
        {
          "output_type": "stream",
          "name": "stdout",
          "text": [
            "Archive:  /content/source-based-news-classification.zip\n",
            "  inflating: news_articles.csv       \n"
          ]
        }
      ],
      "source": [
        "! unzip /content/source-based-news-classification.zip"
      ]
    },
    {
      "cell_type": "code",
      "execution_count": null,
      "metadata": {
        "id": "jOpkIOXdhv7F"
      },
      "outputs": [],
      "source": [
        "data=pd.read_csv(\"/content/news_articles.csv\")  #,encoding='latin-1'"
      ]
    },
    {
      "cell_type": "code",
      "execution_count": null,
      "metadata": {
        "colab": {
          "base_uri": "https://localhost:8080/"
        },
        "id": "O-_oVvzAjDRh",
        "outputId": "69acaf91-19a7-42a6-fb8b-c8ffeb4a153a"
      },
      "outputs": [
        {
          "output_type": "execute_result",
          "data": {
            "text/plain": [
              "pandas.core.frame.DataFrame"
            ]
          },
          "metadata": {},
          "execution_count": 18
        }
      ],
      "source": [
        "type(data)"
      ]
    },
    {
      "cell_type": "code",
      "source": [
        "data.isnull().any().any()"
      ],
      "metadata": {
        "id": "cHaQRHnXE1fX",
        "colab": {
          "base_uri": "https://localhost:8080/"
        },
        "outputId": "f8adadcc-bef6-412c-99ab-b5a6985cb4da"
      },
      "execution_count": null,
      "outputs": [
        {
          "output_type": "execute_result",
          "data": {
            "text/plain": [
              "True"
            ]
          },
          "metadata": {},
          "execution_count": 19
        }
      ]
    },
    {
      "cell_type": "code",
      "source": [
        "data.isnull().any()"
      ],
      "metadata": {
        "colab": {
          "base_uri": "https://localhost:8080/"
        },
        "id": "PvMF-iOMSCJ0",
        "outputId": "f64d4b72-c92c-4a4b-83e5-344fed48b8b1"
      },
      "execution_count": null,
      "outputs": [
        {
          "output_type": "execute_result",
          "data": {
            "text/plain": [
              "author                     False\n",
              "published                  False\n",
              "title                      False\n",
              "text                        True\n",
              "language                    True\n",
              "site_url                    True\n",
              "main_img_url                True\n",
              "type                        True\n",
              "label                       True\n",
              "title_without_stopwords     True\n",
              "text_without_stopwords      True\n",
              "hasImage                    True\n",
              "dtype: bool"
            ]
          },
          "metadata": {},
          "execution_count": 20
        }
      ]
    },
    {
      "cell_type": "code",
      "source": [
        "data=data.dropna()\n",
        "print(data)"
      ],
      "metadata": {
        "colab": {
          "base_uri": "https://localhost:8080/"
        },
        "id": "L8KfI4THSK1Z",
        "outputId": "5f870de6-f8f4-42da-d1f7-dd4c35e14cea"
      },
      "execution_count": null,
      "outputs": [
        {
          "output_type": "stream",
          "name": "stdout",
          "text": [
            "                    author                      published  \\\n",
            "0        Barracuda Brigade  2016-10-26T21:41:00.000+03:00   \n",
            "1     reasoning with facts  2016-10-29T08:47:11.259+03:00   \n",
            "2        Barracuda Brigade  2016-10-31T01:41:49.479+02:00   \n",
            "3                   Fed Up  2016-11-01T05:22:00.000+02:00   \n",
            "4                   Fed Up  2016-11-01T21:56:00.000+02:00   \n",
            "...                    ...                            ...   \n",
            "2041           Matt Barber  2016-10-27T03:04:50.327+03:00   \n",
            "2042         Jane Chastain  2016-10-27T03:04:50.704+03:00   \n",
            "2043         Michael Brown  2016-10-27T03:04:54.788+03:00   \n",
            "2044           Ann Coulter  2016-10-27T03:05:01.989+03:00   \n",
            "2045           Larry Elder  2016-10-27T03:05:05.815+03:00   \n",
            "\n",
            "                                                  title  \\\n",
            "0     muslims busted they stole millions in govt ben...   \n",
            "1     re why did attorney general loretta lynch plea...   \n",
            "2     breaking weiner cooperating with fbi on hillar...   \n",
            "3     pin drop speech by father of daughter kidnappe...   \n",
            "4     fantastic trumps  point plan to reform healthc...   \n",
            "...                                                 ...   \n",
            "2041                 why never trumpers must reconsider   \n",
            "2042        election crossroads socialism or capitalism   \n",
            "2043                         reasons ill vote for trump   \n",
            "2044   our new country women and minorities hit hardest   \n",
            "2045              trump vs clinton a risk vs a disaster   \n",
            "\n",
            "                                                   text language  \\\n",
            "0     print they should pay all the back all the mon...  english   \n",
            "1     why did attorney general loretta lynch plead t...  english   \n",
            "2     red state  \\nfox news sunday reported this mor...  english   \n",
            "3     email kayla mueller was a prisoner and torture...  english   \n",
            "4     email healthcare reform to make america great ...  english   \n",
            "...                                                 ...      ...   \n",
            "2041  prof canoes reek of genocide white privilege c...  english   \n",
            "2042  teens walk free after gangrape conviction judg...  english   \n",
            "2043  school named for munichmassacre mastermind ter...  english   \n",
            "2044  wars and rumors of wars russia unveils satan  ...  english   \n",
            "2045  check out hillarythemed haunted house anticlin...  english   \n",
            "\n",
            "                 site_url                                       main_img_url  \\\n",
            "0     100percentfedup.com  http://bb4sp.com/wp-content/uploads/2016/10/Fu...   \n",
            "1     100percentfedup.com  http://bb4sp.com/wp-content/uploads/2016/10/Fu...   \n",
            "2     100percentfedup.com  http://bb4sp.com/wp-content/uploads/2016/10/Fu...   \n",
            "3     100percentfedup.com  http://100percentfedup.com/wp-content/uploads/...   \n",
            "4     100percentfedup.com  http://100percentfedup.com/wp-content/uploads/...   \n",
            "...                   ...                                                ...   \n",
            "2041              wnd.com                                       No Image URL   \n",
            "2042              wnd.com                                       No Image URL   \n",
            "2043              wnd.com  http://mobile.wnd.com/files/2011/12/leftfield3...   \n",
            "2044              wnd.com  http://www.wnd.com/files/2016/10/danney-willll...   \n",
            "2045              wnd.com  http://www.wnd.com/files/2015/10/Hillary-Clint...   \n",
            "\n",
            "      type label                            title_without_stopwords  \\\n",
            "0     bias  Real        muslims busted stole millions govt benefits   \n",
            "1     bias  Real         attorney general loretta lynch plead fifth   \n",
            "2     bias  Real  breaking weiner cooperating fbi hillary email ...   \n",
            "3     bias  Real  pin drop speech father daughter kidnapped kill...   \n",
            "4     bias  Real  fantastic trumps point plan reform healthcare ...   \n",
            "...    ...   ...                                                ...   \n",
            "2041  bias  Real                  trump vs clinton risk vs disaster   \n",
            "2042  bias  Real                    gingrich slutshames megyn kelly   \n",
            "2043  bias  Real                    youtube bans clintons black son   \n",
            "2044  bias  Real             wikileaks bombshells hillary need know   \n",
            "2045  bias  Real                                     fascinated sex   \n",
            "\n",
            "                                 text_without_stopwords  hasImage  \n",
            "0     print pay back money plus interest entire fami...       1.0  \n",
            "1     attorney general loretta lynch plead fifth bar...       1.0  \n",
            "2     red state fox news sunday reported morning ant...       1.0  \n",
            "3     email kayla mueller prisoner tortured isis cha...       1.0  \n",
            "4     email healthcare reform make america great sin...       1.0  \n",
            "...                                                 ...       ...  \n",
            "2041  check hillarythemed haunted house anticlinton ...       0.0  \n",
            "2042  good samaritan wearing indian headdress disarm...       1.0  \n",
            "2043  skype sex scam fortune built shame moroccan bo...       1.0  \n",
            "2044  posted eddie skyhigh potency may scare away cr...       1.0  \n",
            "2045  billion even known keeping supposedly deleted ...       0.0  \n",
            "\n",
            "[2045 rows x 12 columns]\n"
          ]
        }
      ]
    },
    {
      "cell_type": "code",
      "execution_count": null,
      "metadata": {
        "colab": {
          "base_uri": "https://localhost:8080/",
          "height": 1000
        },
        "id": "xb6HOEMmjvcR",
        "outputId": "d2865295-ecd7-409b-87e3-fc577bf82ccc"
      },
      "outputs": [
        {
          "output_type": "execute_result",
          "data": {
            "text/plain": [
              "                  author                      published  \\\n",
              "0      Barracuda Brigade  2016-10-26T21:41:00.000+03:00   \n",
              "1   reasoning with facts  2016-10-29T08:47:11.259+03:00   \n",
              "2      Barracuda Brigade  2016-10-31T01:41:49.479+02:00   \n",
              "3                 Fed Up  2016-11-01T05:22:00.000+02:00   \n",
              "4                 Fed Up  2016-11-01T21:56:00.000+02:00   \n",
              "5      Barracuda Brigade  2016-11-02T16:31:28.550+02:00   \n",
              "6                 Fed Up  2016-11-04T19:40:00.000+02:00   \n",
              "7                 Fed Up  2016-11-05T01:19:00.000+02:00   \n",
              "8                 Fed Up  2016-11-06T23:54:00.000+02:00   \n",
              "9                 Fed Up  2016-11-07T02:43:00.000+02:00   \n",
              "10              EdJenner  2016-11-07T22:34:36.822+02:00   \n",
              "11                Fed Up  2016-11-09T17:28:00.000+02:00   \n",
              "12              EdJenner  2016-11-10T02:37:06.677+02:00   \n",
              "13                Fed Up  2016-11-10T15:38:00.000+02:00   \n",
              "14                Fed Up  2016-11-11T15:13:00.000+02:00   \n",
              "15              EdJenner  2016-11-12T06:16:03.318+02:00   \n",
              "16                Fed Up  2016-11-10T08:41:00.000+02:00   \n",
              "17              EdJenner  2016-11-12T19:55:23.883+02:00   \n",
              "18              EdJenner  2016-11-13T06:02:46.689+02:00   \n",
              "19              EdJenner  2016-11-13T06:02:47.949+02:00   \n",
              "20                Fed Up  2016-11-10T09:10:00.000+02:00   \n",
              "21              EdJenner  2016-11-14T08:35:23.027+02:00   \n",
              "22              EdJenner  2016-11-15T09:43:45.343+02:00   \n",
              "23              EdJenner  2016-11-20T03:53:12.132+02:00   \n",
              "24              EdJenner  2016-11-20T06:44:12.111+02:00   \n",
              "25              EdJenner  2016-11-21T03:35:20.047+02:00   \n",
              "26              EdJenner  2016-11-22T08:17:53.961+02:00   \n",
              "27                Fed Up  2016-11-22T21:26:00.000+02:00   \n",
              "28              EdJenner  2016-11-23T01:48:30.528+02:00   \n",
              "29     Barracuda Brigade  2016-11-23T21:54:00.000+02:00   \n",
              "30     Barracuda Brigade  2016-11-23T21:06:00.000+02:00   \n",
              "31              EdJenner  2016-11-25T09:24:40.752+02:00   \n",
              "32              EdJenner  2016-11-25T15:21:54.424+02:00   \n",
              "33             No Author  2016-10-27T02:24:00.000+03:00   \n",
              "34             No Author  2016-10-29T16:20:00.000+03:00   \n",
              "35          Shawn Helton  2016-10-29T04:22:00.000+03:00   \n",
              "36           Mike Rivero  2016-11-02T01:43:00.000+02:00   \n",
              "37             No Author  2016-11-01T16:48:00.000+02:00   \n",
              "38          Shawn Helton  2016-11-04T00:03:00.000+02:00   \n",
              "39             No Author  2016-11-04T15:33:00.000+02:00   \n",
              "40             No Author  2016-11-04T14:30:00.000+02:00   \n",
              "41             No Author  2016-11-06T07:48:00.000+02:00   \n",
              "42             No Author  2016-11-06T22:52:00.000+02:00   \n",
              "43             No Author  2016-11-09T17:06:00.000+02:00   \n",
              "44             No Author  2016-11-10T12:04:04.874+02:00   \n",
              "45             No Author  2016-11-10T14:42:00.000+02:00   \n",
              "46             No Author  2016-11-11T13:52:00.000+02:00   \n",
              "47             No Author  2016-11-11T15:35:00.000+02:00   \n",
              "48           Mike Rivero  2016-11-12T23:13:29.272+02:00   \n",
              "49           Mike Rivero  2016-11-12T23:13:50.035+02:00   \n",
              "\n",
              "                                                title  \\\n",
              "0   muslims busted they stole millions in govt ben...   \n",
              "1   re why did attorney general loretta lynch plea...   \n",
              "2   breaking weiner cooperating with fbi on hillar...   \n",
              "3   pin drop speech by father of daughter kidnappe...   \n",
              "4   fantastic trumps  point plan to reform healthc...   \n",
              "5   hillary goes absolutely berserk on protester a...   \n",
              "6   breaking nypd ready to make arrests in weiner ...   \n",
              "7   wow whistleblower tells chilling story of mass...   \n",
              "8   breaking clinton clearedwas this a coordinated...   \n",
              "9   evil hillary supporters yell fck trumpburn tru...   \n",
              "10  yikes hillary goes off the railspulls a howard...   \n",
              "11  say goodbye these  hollywood celebs threatened...   \n",
              "12  not kidding colleges give students safe spaces...   \n",
              "13  boom math shows trump would have beaten obama ...   \n",
              "14  boom this is how president reagan handled prot...   \n",
              "15  trump supporter got nuts on msnbc reporter cov...   \n",
              "16  tomi lahren has special message for celebritie...   \n",
              "17  boycottcomedianrobert deniro wanted to punch t...   \n",
              "18  hes never sold an original painting until nowa...   \n",
              "19  sorry liberalsyou can stop with the petitionsh...   \n",
              "20  mark cuban in the event donald wins i have no ...   \n",
              "21  trump supporter whose brutal beating by black ...   \n",
              "22  wow white liberals suggest blacks are too stup...   \n",
              "23  lol british wife of lib actor who said there w...   \n",
              "24  epic tucker carlson demolishes nyc councilman ...   \n",
              "25  funny snls solution to democrat election denia...   \n",
              "26  donald trump calls meeting with pressdresses d...   \n",
              "27  oops crybaby hamilton stars who lectured pence...   \n",
              "28  white trumpbashing lib reprimanded on live cnn...   \n",
              "29        boom kellyanne conway shuts down cnns cuomo   \n",
              "30  sharia in america how minneapolis muslims are ...   \n",
              "31  sheriff clarke on obamas final days obamas lik...   \n",
              "32  antitrump crowd chants whats better than  dead...   \n",
              "33  intl community still financing protecting terr...   \n",
              "34  fbi director comeys leaked memo explains why h...   \n",
              "35  fbi redux whats behind new probe into hillary ...   \n",
              "36  party corruption clinton campaign directly tie...   \n",
              "37  hillarys russian hack hoax the biggest lie of ...   \n",
              "38  partners in crime goldman sachs the clintons  ...   \n",
              "39  wikileaks hillary clinton knew saudi qatar wer...   \n",
              "40  hillary clinton jumps the shark with trumps se...   \n",
              "41  prof michel chossudovsky discusses hillary cli...   \n",
              "42  episode   sunday wire ticktock usa with guests...   \n",
              "43  kremlin putin congratulates trump hopes to wor...   \n",
              "44  americas primal scream david icke explains rea...   \n",
              "45  mexicos richest oligarch loses billions on new...   \n",
              "46  beyonce jay z hillary clinton  you dont repres...   \n",
              "47  video female college students protesting becau...   \n",
              "48  color rev agit prop george soros moveon agitat...   \n",
              "49  henningsen us antitrump protests similar to so...   \n",
              "\n",
              "                                                 text language  \\\n",
              "0   print they should pay all the back all the mon...  english   \n",
              "1   why did attorney general loretta lynch plead t...  english   \n",
              "2   red state  \\nfox news sunday reported this mor...  english   \n",
              "3   email kayla mueller was a prisoner and torture...  english   \n",
              "4   email healthcare reform to make america great ...  english   \n",
              "5   print hillary goes absolutely berserk she expl...  english   \n",
              "6   breaking nypd ready to make arrests in weiner ...  english   \n",
              "7   breaking nypd ready to make arrests in weiner ...  english   \n",
              "8   limbaugh said that the revelations in the wiki...  english   \n",
              "9   email \\nthese people are sick and evil they wi...  english   \n",
              "10  who comedian \\nwhere would she move spain i di...  english   \n",
              "11  students expressed their fear over a trump pre...  english   \n",
              "12  email for republican politicians like ohio gov...  english   \n",
              "13  copyright   percentfedupcom in association wit...  english   \n",
              "14  go to article a trump supporter wearing a trum...  english   \n",
              "15  copyright   percentfedupcom in association wit...  english   \n",
              "16  go to article donald trump was willing to give...  english   \n",
              "17  john mcnaughton is a special american painter ...  english   \n",
              "18  go to article dear abby i supported a woman i ...  english   \n",
              "19  mark cuban has made no secret of his dislike f...  english   \n",
              "20  david wilcox a  year old chicago man who was b...  english   \n",
              "21  go to article filmmaker ami horowitz takes to ...  english   \n",
              "22  go to article \\npolitical activist and hillary...  english   \n",
              "23  go to article rafael salamancas interview on t...  english   \n",
              "24  go to article in the bubble life continues for...  english   \n",
              "25  go to article \\nthey had to know they had it c...  english   \n",
              "26  donald trump skips media delivers transition u...  english   \n",
              "27  go to article the left is shameful in their la...  english   \n",
              "28  boom kellyanne conway shuts down cnns cuomo ba...  english   \n",
              "29  sharia in america how minneapolis muslims are ...  english   \n",
              "30  go to article wow milwaukees sheriff david cla...  english   \n",
              "31  go to article austin texas was the scene of pr...  english   \n",
              "32  st century wire says \\nas western media outlet...  english   \n",
              "33  st century wire says \\nwire reported on friday...  english   \n",
              "34  in a stunning turn of events  days before the ...  english   \n",
              "35  a tidal wave of revelations is pouring out of ...  english   \n",
              "36  november   by wire  comments \\npatrick henning...  english   \n",
              "37  november   by shawn helton  comment \\nshawn he...  english   \n",
              "38  st century wire says \\nthis should be the bigg...  english   \n",
              "39  st century wire says \\nyesterday wikileaks edi...  english   \n",
              "40  st century wire says \\namid great mainstream m...  english   \n",
              "41  november   by wire leave a comment \\nepisode  ...  english   \n",
              "42  st century wire says \\nover the past months hi...  english   \n",
              "43  latest posts wire we are a north american and ...  english   \n",
              "44  st century wire says \\nmexicos billionaire tyc...  english   \n",
              "45  st century wire says \\none of the great myths ...  english   \n",
              "46  st century wire says \\nus college students con...  english   \n",
              "47  november   by shawn helton leave a comment \\ns...  english   \n",
              "48  st century wire says \\norganized efforts are u...  english   \n",
              "49  st century wire says \\nyou can imagine how nat...  english   \n",
              "\n",
              "               site_url                                       main_img_url  \\\n",
              "0   100percentfedup.com  http://bb4sp.com/wp-content/uploads/2016/10/Fu...   \n",
              "1   100percentfedup.com  http://bb4sp.com/wp-content/uploads/2016/10/Fu...   \n",
              "2   100percentfedup.com  http://bb4sp.com/wp-content/uploads/2016/10/Fu...   \n",
              "3   100percentfedup.com  http://100percentfedup.com/wp-content/uploads/...   \n",
              "4   100percentfedup.com  http://100percentfedup.com/wp-content/uploads/...   \n",
              "5   100percentfedup.com  http://bb4sp.com/wp-content/uploads/2016/11/Fu...   \n",
              "6   100percentfedup.com  http://100percentfedup.com/wp-content/uploads/...   \n",
              "7   100percentfedup.com  http://100percentfedup.com/wp-content/uploads/...   \n",
              "8   100percentfedup.com  http://100percentfedup.com/wp-content/uploads/...   \n",
              "9   100percentfedup.com  http://100percentfedup.com/wp-content/uploads/...   \n",
              "10  100percentfedup.com  http://conservativeangle.com/wp-content/upload...   \n",
              "11  100percentfedup.com  http://100percentfedup.com/wp-content/uploads/...   \n",
              "12  100percentfedup.com  http://conservativeangle.com/wp-content/upload...   \n",
              "13  100percentfedup.com  http://100percentfedup.com/wp-content/uploads/...   \n",
              "14  100percentfedup.com  http://100percentfedup.com/wp-content/uploads/...   \n",
              "15  100percentfedup.com  http://conservativeangle.com/wp-content/upload...   \n",
              "16  100percentfedup.com  http://100percentfedup.com/wp-content/uploads/...   \n",
              "17  100percentfedup.com  http://conservativeangle.com/wp-content/upload...   \n",
              "18  100percentfedup.com  http://conservativeangle.com/wp-content/upload...   \n",
              "19  100percentfedup.com  http://conservativeangle.com/wp-content/upload...   \n",
              "20  100percentfedup.com  http://100percentfedup.com/wp-content/uploads/...   \n",
              "21  100percentfedup.com  http://conservativeangle.com/wp-content/upload...   \n",
              "22  100percentfedup.com  http://conservativeangle.com/wp-content/upload...   \n",
              "23  100percentfedup.com  http://conservativeangle.com/wp-content/upload...   \n",
              "24  100percentfedup.com  http://conservativeangle.com/wp-content/upload...   \n",
              "25  100percentfedup.com  http://conservativeangle.com/wp-content/upload...   \n",
              "26  100percentfedup.com  http://conservativeangle.com/wp-content/upload...   \n",
              "27  100percentfedup.com  http://100percentfedup.com/wp-content/uploads/...   \n",
              "28  100percentfedup.com  http://conservativeangle.com/wp-content/upload...   \n",
              "29  100percentfedup.com  http://bb4sp.com/wp-content/uploads/2016/11/Fu...   \n",
              "30  100percentfedup.com  http://bb4sp.com/wp-content/uploads/2016/11/Fu...   \n",
              "31  100percentfedup.com  http://conservativeangle.com/wp-content/upload...   \n",
              "32  100percentfedup.com  http://conservativeangle.com/wp-content/upload...   \n",
              "33  21stcenturywire.com  http://21stcenturywire.com/wp-content/uploads/...   \n",
              "34  21stcenturywire.com  http://21stcenturywire.com/wp-content/uploads/...   \n",
              "35  21stcenturywire.com  http://21stcenturywire.com/wp-content/uploads/...   \n",
              "36  21stcenturywire.com  http://i1.wp.com/21stcenturywire.com/wp-conten...   \n",
              "37  21stcenturywire.com  http://i0.wp.com/21stcenturywire.com/wp-conten...   \n",
              "38  21stcenturywire.com  http://i2.wp.com/21stcenturywire.com/wp-conten...   \n",
              "39  21stcenturywire.com  http://i2.wp.com/21stcenturywire.com/wp-conten...   \n",
              "40  21stcenturywire.com  http://i0.wp.com/21stcenturywire.com/wp-conten...   \n",
              "41  21stcenturywire.com  http://i1.wp.com/21stcenturywire.com/wp-conten...   \n",
              "42  21stcenturywire.com  http://i2.wp.com/21stcenturywire.com/wp-conten...   \n",
              "43  21stcenturywire.com  http://i0.wp.com/21stcenturywire.com/wp-conten...   \n",
              "44  21stcenturywire.com  http://i1.wp.com/21stcenturywire.com/wp-conten...   \n",
              "45  21stcenturywire.com  http://i2.wp.com/21stcenturywire.com/wp-conten...   \n",
              "46  21stcenturywire.com  http://i1.wp.com/21stcenturywire.com/wp-conten...   \n",
              "47  21stcenturywire.com  http://i2.wp.com/21stcenturywire.com/wp-conten...   \n",
              "48  21stcenturywire.com  http://i0.wp.com/21stcenturywire.com/wp-conten...   \n",
              "49  21stcenturywire.com  http://i0.wp.com/21stcenturywire.com/wp-conten...   \n",
              "\n",
              "          type label                            title_without_stopwords  \\\n",
              "0         bias  Real        muslims busted stole millions govt benefits   \n",
              "1         bias  Real         attorney general loretta lynch plead fifth   \n",
              "2         bias  Real  breaking weiner cooperating fbi hillary email ...   \n",
              "3         bias  Real  pin drop speech father daughter kidnapped kill...   \n",
              "4         bias  Real  fantastic trumps point plan reform healthcare ...   \n",
              "5         bias  Real  hillary goes absolutely berserk protester rall...   \n",
              "6         bias  Real  breaking nypd ready make arrests weiner casehi...   \n",
              "7         bias  Real  wow whistleblower tells chilling story massive...   \n",
              "8         bias  Real  breaking clinton clearedwas coordinated last m...   \n",
              "9         bias  Real  evil hillary supporters yell fck trumpburn tru...   \n",
              "10        bias  Real    yikes hillary goes railspulls howard dean video   \n",
              "11        bias  Real  say goodbye hollywood celebs threatened leave ...   \n",
              "12        bias  Real  kidding colleges give students safe spaces cry...   \n",
              "13        bias  Real  boom math shows trump would beaten obama romne...   \n",
              "14        bias  Real  boom president reagan handled protesters negot...   \n",
              "15        bias  Real  trump supporter got nuts msnbc reporter coveri...   \n",
              "16        bias  Real  tomi lahren special message celebrities said t...   \n",
              "17        bias  Real  boycottcomedianrobert deniro wanted punch trum...   \n",
              "18        bias  Real  hes never sold original painting nowand ones g...   \n",
              "19        bias  Real  sorry liberalsyou stop petitionshillary win po...   \n",
              "20        bias  Real  mark cuban event donald wins doubt market tank...   \n",
              "21        bias  Real  trump supporter whose brutal beating black mob...   \n",
              "22        bias  Real  wow white liberals suggest blacks stupid get i...   \n",
              "23        bias  Real  lol british wife lib actor said never presiden...   \n",
              "24        bias  Real  epic tucker carlson demolishes nyc councilman ...   \n",
              "25        bias  Real  funny snls solution democrat election denial s...   \n",
              "26        bias  Real  donald trump calls meeting pressdresses real f...   \n",
              "27        bias  Real  oops crybaby hamilton stars lectured pence hav...   \n",
              "28        bias  Real  white trumpbashing lib reprimanded live cnn in...   \n",
              "29        bias  Real             boom kellyanne conway shuts cnns cuomo   \n",
              "30        bias  Real  sharia america minneapolis muslims still recru...   \n",
              "31        bias  Real  sheriff clarke obamas final days obamas like t...   \n",
              "32        bias  Real  antitrump crowd chants whats better dead cops ...   \n",
              "33  conspiracy  Fake  intl community still financing protecting terr...   \n",
              "34  conspiracy  Fake  fbi director comeys leaked memo explains hes r...   \n",
              "35  conspiracy  Fake  fbi redux whats behind new probe hillary clint...   \n",
              "36  conspiracy  Fake  party corruption clinton campaign directly tie...   \n",
              "37  conspiracy  Fake  hillarys russian hack hoax biggest lie electio...   \n",
              "38  conspiracy  Fake  partners crime goldman sachs clintons wall street   \n",
              "39  conspiracy  Fake  wikileaks hillary clinton knew saudi qatar fun...   \n",
              "40  conspiracy  Fake  hillary clinton jumps shark trumps secret russ...   \n",
              "41  conspiracy  Fake  prof michel chossudovsky discusses hillary cli...   \n",
              "42  conspiracy  Fake  episode sunday wire ticktock usa guests dr mar...   \n",
              "43  conspiracy  Fake  kremlin putin congratulates trump hopes work t...   \n",
              "44  conspiracy  Fake  americas primal scream david icke explains rea...   \n",
              "45  conspiracy  Fake  mexicos richest oligarch loses billions news t...   \n",
              "46  conspiracy  Fake  beyonce jay z hillary clinton dont represent b...   \n",
              "47  conspiracy  Fake  video female college students protesting trump...   \n",
              "48  conspiracy  Fake  color rev agit prop george soros moveon agitat...   \n",
              "49  conspiracy  Fake  henningsen us antitrump protests similar soros...   \n",
              "\n",
              "                               text_without_stopwords  hasImage  \n",
              "0   print pay back money plus interest entire fami...       1.0  \n",
              "1   attorney general loretta lynch plead fifth bar...       1.0  \n",
              "2   red state fox news sunday reported morning ant...       1.0  \n",
              "3   email kayla mueller prisoner tortured isis cha...       1.0  \n",
              "4   email healthcare reform make america great sin...       1.0  \n",
              "5   print hillary goes absolutely berserk explodes...       1.0  \n",
              "6   breaking nypd ready make arrests weiner casehi...       1.0  \n",
              "7   breaking nypd ready make arrests weiner casehi...       1.0  \n",
              "8   limbaugh said revelations wikileaks material s...       1.0  \n",
              "9   email people sick evil stop nothing get way la...       1.0  \n",
              "10  comedian would move spain buy house another co...       1.0  \n",
              "11  students expressed fear trump presidency messa...       1.0  \n",
              "12  email republican politicians like ohio governo...       1.0  \n",
              "13  copyright percentfedupcom association liberty ...       1.0  \n",
              "14  go article trump supporter wearing trumppence ...       1.0  \n",
              "15  copyright percentfedupcom association liberty ...       1.0  \n",
              "16  go article donald trump willing give fulfillin...       1.0  \n",
              "17  john mcnaughton special american painter subje...       1.0  \n",
              "18  go article dear abby supported woman knew hist...       1.0  \n",
              "19  mark cuban made secret dislike trump love croo...       1.0  \n",
              "20  david wilcox year old chicago man brutally bea...       1.0  \n",
              "21  go article filmmaker ami horowitz takes street...       1.0  \n",
              "22  go article political activist hillary supporte...       1.0  \n",
              "23  go article rafael salamancas interview tucker ...       1.0  \n",
              "24  go article bubble life continues progressive a...       1.0  \n",
              "25  go article know coming donald trump scolded me...       1.0  \n",
              "26  donald trump skips media delivers transition u...       1.0  \n",
              "27  go article left shameful latest effort create ...       1.0  \n",
              "28  boom kellyanne conway shuts cnns cuomo barracu...       1.0  \n",
              "29  sharia america minneapolis muslims still recru...       1.0  \n",
              "30  go article wow milwaukees sheriff david clarke...       1.0  \n",
              "31  go article austin texas scene protest presiden...       1.0  \n",
              "32  st century wire says western media outlets lik...       1.0  \n",
              "33  st century wire says wire reported friday fbis...       1.0  \n",
              "34  stunning turn events days presidential electio...       1.0  \n",
              "35  tidal wave revelations pouring clinton campaig...       1.0  \n",
              "36  november wire comments patrick henningsen st c...       1.0  \n",
              "37  november shawn helton comment shawn helton st ...       1.0  \n",
              "38  st century wire says biggest revelation yet wi...       1.0  \n",
              "39  st century wire says yesterday wikileaks edito...       1.0  \n",
              "40  st century wire says amid great mainstream med...       1.0  \n",
              "41  november wire leave comment episode sunday wir...       1.0  \n",
              "42  st century wire says past months hillary clint...       1.0  \n",
              "43  latest posts wire north american europeanbased...       1.0  \n",
              "44  st century wire says mexicos billionaire tycoo...       1.0  \n",
              "45  st century wire says one great myths spun esta...       1.0  \n",
              "46  st century wire says us college students conti...       1.0  \n",
              "47  november shawn helton leave comment shawn helt...       1.0  \n",
              "48  st century wire says organized efforts underwa...       1.0  \n",
              "49  st century wire says imagine nations like chin...       1.0  "
            ],
            "text/html": [
              "\n",
              "  <div id=\"df-428f3e54-f025-4380-a162-f300d5c82c4e\">\n",
              "    <div class=\"colab-df-container\">\n",
              "      <div>\n",
              "<style scoped>\n",
              "    .dataframe tbody tr th:only-of-type {\n",
              "        vertical-align: middle;\n",
              "    }\n",
              "\n",
              "    .dataframe tbody tr th {\n",
              "        vertical-align: top;\n",
              "    }\n",
              "\n",
              "    .dataframe thead th {\n",
              "        text-align: right;\n",
              "    }\n",
              "</style>\n",
              "<table border=\"1\" class=\"dataframe\">\n",
              "  <thead>\n",
              "    <tr style=\"text-align: right;\">\n",
              "      <th></th>\n",
              "      <th>author</th>\n",
              "      <th>published</th>\n",
              "      <th>title</th>\n",
              "      <th>text</th>\n",
              "      <th>language</th>\n",
              "      <th>site_url</th>\n",
              "      <th>main_img_url</th>\n",
              "      <th>type</th>\n",
              "      <th>label</th>\n",
              "      <th>title_without_stopwords</th>\n",
              "      <th>text_without_stopwords</th>\n",
              "      <th>hasImage</th>\n",
              "    </tr>\n",
              "  </thead>\n",
              "  <tbody>\n",
              "    <tr>\n",
              "      <th>0</th>\n",
              "      <td>Barracuda Brigade</td>\n",
              "      <td>2016-10-26T21:41:00.000+03:00</td>\n",
              "      <td>muslims busted they stole millions in govt ben...</td>\n",
              "      <td>print they should pay all the back all the mon...</td>\n",
              "      <td>english</td>\n",
              "      <td>100percentfedup.com</td>\n",
              "      <td>http://bb4sp.com/wp-content/uploads/2016/10/Fu...</td>\n",
              "      <td>bias</td>\n",
              "      <td>Real</td>\n",
              "      <td>muslims busted stole millions govt benefits</td>\n",
              "      <td>print pay back money plus interest entire fami...</td>\n",
              "      <td>1.0</td>\n",
              "    </tr>\n",
              "    <tr>\n",
              "      <th>1</th>\n",
              "      <td>reasoning with facts</td>\n",
              "      <td>2016-10-29T08:47:11.259+03:00</td>\n",
              "      <td>re why did attorney general loretta lynch plea...</td>\n",
              "      <td>why did attorney general loretta lynch plead t...</td>\n",
              "      <td>english</td>\n",
              "      <td>100percentfedup.com</td>\n",
              "      <td>http://bb4sp.com/wp-content/uploads/2016/10/Fu...</td>\n",
              "      <td>bias</td>\n",
              "      <td>Real</td>\n",
              "      <td>attorney general loretta lynch plead fifth</td>\n",
              "      <td>attorney general loretta lynch plead fifth bar...</td>\n",
              "      <td>1.0</td>\n",
              "    </tr>\n",
              "    <tr>\n",
              "      <th>2</th>\n",
              "      <td>Barracuda Brigade</td>\n",
              "      <td>2016-10-31T01:41:49.479+02:00</td>\n",
              "      <td>breaking weiner cooperating with fbi on hillar...</td>\n",
              "      <td>red state  \\nfox news sunday reported this mor...</td>\n",
              "      <td>english</td>\n",
              "      <td>100percentfedup.com</td>\n",
              "      <td>http://bb4sp.com/wp-content/uploads/2016/10/Fu...</td>\n",
              "      <td>bias</td>\n",
              "      <td>Real</td>\n",
              "      <td>breaking weiner cooperating fbi hillary email ...</td>\n",
              "      <td>red state fox news sunday reported morning ant...</td>\n",
              "      <td>1.0</td>\n",
              "    </tr>\n",
              "    <tr>\n",
              "      <th>3</th>\n",
              "      <td>Fed Up</td>\n",
              "      <td>2016-11-01T05:22:00.000+02:00</td>\n",
              "      <td>pin drop speech by father of daughter kidnappe...</td>\n",
              "      <td>email kayla mueller was a prisoner and torture...</td>\n",
              "      <td>english</td>\n",
              "      <td>100percentfedup.com</td>\n",
              "      <td>http://100percentfedup.com/wp-content/uploads/...</td>\n",
              "      <td>bias</td>\n",
              "      <td>Real</td>\n",
              "      <td>pin drop speech father daughter kidnapped kill...</td>\n",
              "      <td>email kayla mueller prisoner tortured isis cha...</td>\n",
              "      <td>1.0</td>\n",
              "    </tr>\n",
              "    <tr>\n",
              "      <th>4</th>\n",
              "      <td>Fed Up</td>\n",
              "      <td>2016-11-01T21:56:00.000+02:00</td>\n",
              "      <td>fantastic trumps  point plan to reform healthc...</td>\n",
              "      <td>email healthcare reform to make america great ...</td>\n",
              "      <td>english</td>\n",
              "      <td>100percentfedup.com</td>\n",
              "      <td>http://100percentfedup.com/wp-content/uploads/...</td>\n",
              "      <td>bias</td>\n",
              "      <td>Real</td>\n",
              "      <td>fantastic trumps point plan reform healthcare ...</td>\n",
              "      <td>email healthcare reform make america great sin...</td>\n",
              "      <td>1.0</td>\n",
              "    </tr>\n",
              "    <tr>\n",
              "      <th>5</th>\n",
              "      <td>Barracuda Brigade</td>\n",
              "      <td>2016-11-02T16:31:28.550+02:00</td>\n",
              "      <td>hillary goes absolutely berserk on protester a...</td>\n",
              "      <td>print hillary goes absolutely berserk she expl...</td>\n",
              "      <td>english</td>\n",
              "      <td>100percentfedup.com</td>\n",
              "      <td>http://bb4sp.com/wp-content/uploads/2016/11/Fu...</td>\n",
              "      <td>bias</td>\n",
              "      <td>Real</td>\n",
              "      <td>hillary goes absolutely berserk protester rall...</td>\n",
              "      <td>print hillary goes absolutely berserk explodes...</td>\n",
              "      <td>1.0</td>\n",
              "    </tr>\n",
              "    <tr>\n",
              "      <th>6</th>\n",
              "      <td>Fed Up</td>\n",
              "      <td>2016-11-04T19:40:00.000+02:00</td>\n",
              "      <td>breaking nypd ready to make arrests in weiner ...</td>\n",
              "      <td>breaking nypd ready to make arrests in weiner ...</td>\n",
              "      <td>english</td>\n",
              "      <td>100percentfedup.com</td>\n",
              "      <td>http://100percentfedup.com/wp-content/uploads/...</td>\n",
              "      <td>bias</td>\n",
              "      <td>Real</td>\n",
              "      <td>breaking nypd ready make arrests weiner casehi...</td>\n",
              "      <td>breaking nypd ready make arrests weiner casehi...</td>\n",
              "      <td>1.0</td>\n",
              "    </tr>\n",
              "    <tr>\n",
              "      <th>7</th>\n",
              "      <td>Fed Up</td>\n",
              "      <td>2016-11-05T01:19:00.000+02:00</td>\n",
              "      <td>wow whistleblower tells chilling story of mass...</td>\n",
              "      <td>breaking nypd ready to make arrests in weiner ...</td>\n",
              "      <td>english</td>\n",
              "      <td>100percentfedup.com</td>\n",
              "      <td>http://100percentfedup.com/wp-content/uploads/...</td>\n",
              "      <td>bias</td>\n",
              "      <td>Real</td>\n",
              "      <td>wow whistleblower tells chilling story massive...</td>\n",
              "      <td>breaking nypd ready make arrests weiner casehi...</td>\n",
              "      <td>1.0</td>\n",
              "    </tr>\n",
              "    <tr>\n",
              "      <th>8</th>\n",
              "      <td>Fed Up</td>\n",
              "      <td>2016-11-06T23:54:00.000+02:00</td>\n",
              "      <td>breaking clinton clearedwas this a coordinated...</td>\n",
              "      <td>limbaugh said that the revelations in the wiki...</td>\n",
              "      <td>english</td>\n",
              "      <td>100percentfedup.com</td>\n",
              "      <td>http://100percentfedup.com/wp-content/uploads/...</td>\n",
              "      <td>bias</td>\n",
              "      <td>Real</td>\n",
              "      <td>breaking clinton clearedwas coordinated last m...</td>\n",
              "      <td>limbaugh said revelations wikileaks material s...</td>\n",
              "      <td>1.0</td>\n",
              "    </tr>\n",
              "    <tr>\n",
              "      <th>9</th>\n",
              "      <td>Fed Up</td>\n",
              "      <td>2016-11-07T02:43:00.000+02:00</td>\n",
              "      <td>evil hillary supporters yell fck trumpburn tru...</td>\n",
              "      <td>email \\nthese people are sick and evil they wi...</td>\n",
              "      <td>english</td>\n",
              "      <td>100percentfedup.com</td>\n",
              "      <td>http://100percentfedup.com/wp-content/uploads/...</td>\n",
              "      <td>bias</td>\n",
              "      <td>Real</td>\n",
              "      <td>evil hillary supporters yell fck trumpburn tru...</td>\n",
              "      <td>email people sick evil stop nothing get way la...</td>\n",
              "      <td>1.0</td>\n",
              "    </tr>\n",
              "    <tr>\n",
              "      <th>10</th>\n",
              "      <td>EdJenner</td>\n",
              "      <td>2016-11-07T22:34:36.822+02:00</td>\n",
              "      <td>yikes hillary goes off the railspulls a howard...</td>\n",
              "      <td>who comedian \\nwhere would she move spain i di...</td>\n",
              "      <td>english</td>\n",
              "      <td>100percentfedup.com</td>\n",
              "      <td>http://conservativeangle.com/wp-content/upload...</td>\n",
              "      <td>bias</td>\n",
              "      <td>Real</td>\n",
              "      <td>yikes hillary goes railspulls howard dean video</td>\n",
              "      <td>comedian would move spain buy house another co...</td>\n",
              "      <td>1.0</td>\n",
              "    </tr>\n",
              "    <tr>\n",
              "      <th>11</th>\n",
              "      <td>Fed Up</td>\n",
              "      <td>2016-11-09T17:28:00.000+02:00</td>\n",
              "      <td>say goodbye these  hollywood celebs threatened...</td>\n",
              "      <td>students expressed their fear over a trump pre...</td>\n",
              "      <td>english</td>\n",
              "      <td>100percentfedup.com</td>\n",
              "      <td>http://100percentfedup.com/wp-content/uploads/...</td>\n",
              "      <td>bias</td>\n",
              "      <td>Real</td>\n",
              "      <td>say goodbye hollywood celebs threatened leave ...</td>\n",
              "      <td>students expressed fear trump presidency messa...</td>\n",
              "      <td>1.0</td>\n",
              "    </tr>\n",
              "    <tr>\n",
              "      <th>12</th>\n",
              "      <td>EdJenner</td>\n",
              "      <td>2016-11-10T02:37:06.677+02:00</td>\n",
              "      <td>not kidding colleges give students safe spaces...</td>\n",
              "      <td>email for republican politicians like ohio gov...</td>\n",
              "      <td>english</td>\n",
              "      <td>100percentfedup.com</td>\n",
              "      <td>http://conservativeangle.com/wp-content/upload...</td>\n",
              "      <td>bias</td>\n",
              "      <td>Real</td>\n",
              "      <td>kidding colleges give students safe spaces cry...</td>\n",
              "      <td>email republican politicians like ohio governo...</td>\n",
              "      <td>1.0</td>\n",
              "    </tr>\n",
              "    <tr>\n",
              "      <th>13</th>\n",
              "      <td>Fed Up</td>\n",
              "      <td>2016-11-10T15:38:00.000+02:00</td>\n",
              "      <td>boom math shows trump would have beaten obama ...</td>\n",
              "      <td>copyright   percentfedupcom in association wit...</td>\n",
              "      <td>english</td>\n",
              "      <td>100percentfedup.com</td>\n",
              "      <td>http://100percentfedup.com/wp-content/uploads/...</td>\n",
              "      <td>bias</td>\n",
              "      <td>Real</td>\n",
              "      <td>boom math shows trump would beaten obama romne...</td>\n",
              "      <td>copyright percentfedupcom association liberty ...</td>\n",
              "      <td>1.0</td>\n",
              "    </tr>\n",
              "    <tr>\n",
              "      <th>14</th>\n",
              "      <td>Fed Up</td>\n",
              "      <td>2016-11-11T15:13:00.000+02:00</td>\n",
              "      <td>boom this is how president reagan handled prot...</td>\n",
              "      <td>go to article a trump supporter wearing a trum...</td>\n",
              "      <td>english</td>\n",
              "      <td>100percentfedup.com</td>\n",
              "      <td>http://100percentfedup.com/wp-content/uploads/...</td>\n",
              "      <td>bias</td>\n",
              "      <td>Real</td>\n",
              "      <td>boom president reagan handled protesters negot...</td>\n",
              "      <td>go article trump supporter wearing trumppence ...</td>\n",
              "      <td>1.0</td>\n",
              "    </tr>\n",
              "    <tr>\n",
              "      <th>15</th>\n",
              "      <td>EdJenner</td>\n",
              "      <td>2016-11-12T06:16:03.318+02:00</td>\n",
              "      <td>trump supporter got nuts on msnbc reporter cov...</td>\n",
              "      <td>copyright   percentfedupcom in association wit...</td>\n",
              "      <td>english</td>\n",
              "      <td>100percentfedup.com</td>\n",
              "      <td>http://conservativeangle.com/wp-content/upload...</td>\n",
              "      <td>bias</td>\n",
              "      <td>Real</td>\n",
              "      <td>trump supporter got nuts msnbc reporter coveri...</td>\n",
              "      <td>copyright percentfedupcom association liberty ...</td>\n",
              "      <td>1.0</td>\n",
              "    </tr>\n",
              "    <tr>\n",
              "      <th>16</th>\n",
              "      <td>Fed Up</td>\n",
              "      <td>2016-11-10T08:41:00.000+02:00</td>\n",
              "      <td>tomi lahren has special message for celebritie...</td>\n",
              "      <td>go to article donald trump was willing to give...</td>\n",
              "      <td>english</td>\n",
              "      <td>100percentfedup.com</td>\n",
              "      <td>http://100percentfedup.com/wp-content/uploads/...</td>\n",
              "      <td>bias</td>\n",
              "      <td>Real</td>\n",
              "      <td>tomi lahren special message celebrities said t...</td>\n",
              "      <td>go article donald trump willing give fulfillin...</td>\n",
              "      <td>1.0</td>\n",
              "    </tr>\n",
              "    <tr>\n",
              "      <th>17</th>\n",
              "      <td>EdJenner</td>\n",
              "      <td>2016-11-12T19:55:23.883+02:00</td>\n",
              "      <td>boycottcomedianrobert deniro wanted to punch t...</td>\n",
              "      <td>john mcnaughton is a special american painter ...</td>\n",
              "      <td>english</td>\n",
              "      <td>100percentfedup.com</td>\n",
              "      <td>http://conservativeangle.com/wp-content/upload...</td>\n",
              "      <td>bias</td>\n",
              "      <td>Real</td>\n",
              "      <td>boycottcomedianrobert deniro wanted punch trum...</td>\n",
              "      <td>john mcnaughton special american painter subje...</td>\n",
              "      <td>1.0</td>\n",
              "    </tr>\n",
              "    <tr>\n",
              "      <th>18</th>\n",
              "      <td>EdJenner</td>\n",
              "      <td>2016-11-13T06:02:46.689+02:00</td>\n",
              "      <td>hes never sold an original painting until nowa...</td>\n",
              "      <td>go to article dear abby i supported a woman i ...</td>\n",
              "      <td>english</td>\n",
              "      <td>100percentfedup.com</td>\n",
              "      <td>http://conservativeangle.com/wp-content/upload...</td>\n",
              "      <td>bias</td>\n",
              "      <td>Real</td>\n",
              "      <td>hes never sold original painting nowand ones g...</td>\n",
              "      <td>go article dear abby supported woman knew hist...</td>\n",
              "      <td>1.0</td>\n",
              "    </tr>\n",
              "    <tr>\n",
              "      <th>19</th>\n",
              "      <td>EdJenner</td>\n",
              "      <td>2016-11-13T06:02:47.949+02:00</td>\n",
              "      <td>sorry liberalsyou can stop with the petitionsh...</td>\n",
              "      <td>mark cuban has made no secret of his dislike f...</td>\n",
              "      <td>english</td>\n",
              "      <td>100percentfedup.com</td>\n",
              "      <td>http://conservativeangle.com/wp-content/upload...</td>\n",
              "      <td>bias</td>\n",
              "      <td>Real</td>\n",
              "      <td>sorry liberalsyou stop petitionshillary win po...</td>\n",
              "      <td>mark cuban made secret dislike trump love croo...</td>\n",
              "      <td>1.0</td>\n",
              "    </tr>\n",
              "    <tr>\n",
              "      <th>20</th>\n",
              "      <td>Fed Up</td>\n",
              "      <td>2016-11-10T09:10:00.000+02:00</td>\n",
              "      <td>mark cuban in the event donald wins i have no ...</td>\n",
              "      <td>david wilcox a  year old chicago man who was b...</td>\n",
              "      <td>english</td>\n",
              "      <td>100percentfedup.com</td>\n",
              "      <td>http://100percentfedup.com/wp-content/uploads/...</td>\n",
              "      <td>bias</td>\n",
              "      <td>Real</td>\n",
              "      <td>mark cuban event donald wins doubt market tank...</td>\n",
              "      <td>david wilcox year old chicago man brutally bea...</td>\n",
              "      <td>1.0</td>\n",
              "    </tr>\n",
              "    <tr>\n",
              "      <th>21</th>\n",
              "      <td>EdJenner</td>\n",
              "      <td>2016-11-14T08:35:23.027+02:00</td>\n",
              "      <td>trump supporter whose brutal beating by black ...</td>\n",
              "      <td>go to article filmmaker ami horowitz takes to ...</td>\n",
              "      <td>english</td>\n",
              "      <td>100percentfedup.com</td>\n",
              "      <td>http://conservativeangle.com/wp-content/upload...</td>\n",
              "      <td>bias</td>\n",
              "      <td>Real</td>\n",
              "      <td>trump supporter whose brutal beating black mob...</td>\n",
              "      <td>go article filmmaker ami horowitz takes street...</td>\n",
              "      <td>1.0</td>\n",
              "    </tr>\n",
              "    <tr>\n",
              "      <th>22</th>\n",
              "      <td>EdJenner</td>\n",
              "      <td>2016-11-15T09:43:45.343+02:00</td>\n",
              "      <td>wow white liberals suggest blacks are too stup...</td>\n",
              "      <td>go to article \\npolitical activist and hillary...</td>\n",
              "      <td>english</td>\n",
              "      <td>100percentfedup.com</td>\n",
              "      <td>http://conservativeangle.com/wp-content/upload...</td>\n",
              "      <td>bias</td>\n",
              "      <td>Real</td>\n",
              "      <td>wow white liberals suggest blacks stupid get i...</td>\n",
              "      <td>go article political activist hillary supporte...</td>\n",
              "      <td>1.0</td>\n",
              "    </tr>\n",
              "    <tr>\n",
              "      <th>23</th>\n",
              "      <td>EdJenner</td>\n",
              "      <td>2016-11-20T03:53:12.132+02:00</td>\n",
              "      <td>lol british wife of lib actor who said there w...</td>\n",
              "      <td>go to article rafael salamancas interview on t...</td>\n",
              "      <td>english</td>\n",
              "      <td>100percentfedup.com</td>\n",
              "      <td>http://conservativeangle.com/wp-content/upload...</td>\n",
              "      <td>bias</td>\n",
              "      <td>Real</td>\n",
              "      <td>lol british wife lib actor said never presiden...</td>\n",
              "      <td>go article rafael salamancas interview tucker ...</td>\n",
              "      <td>1.0</td>\n",
              "    </tr>\n",
              "    <tr>\n",
              "      <th>24</th>\n",
              "      <td>EdJenner</td>\n",
              "      <td>2016-11-20T06:44:12.111+02:00</td>\n",
              "      <td>epic tucker carlson demolishes nyc councilman ...</td>\n",
              "      <td>go to article in the bubble life continues for...</td>\n",
              "      <td>english</td>\n",
              "      <td>100percentfedup.com</td>\n",
              "      <td>http://conservativeangle.com/wp-content/upload...</td>\n",
              "      <td>bias</td>\n",
              "      <td>Real</td>\n",
              "      <td>epic tucker carlson demolishes nyc councilman ...</td>\n",
              "      <td>go article bubble life continues progressive a...</td>\n",
              "      <td>1.0</td>\n",
              "    </tr>\n",
              "    <tr>\n",
              "      <th>25</th>\n",
              "      <td>EdJenner</td>\n",
              "      <td>2016-11-21T03:35:20.047+02:00</td>\n",
              "      <td>funny snls solution to democrat election denia...</td>\n",
              "      <td>go to article \\nthey had to know they had it c...</td>\n",
              "      <td>english</td>\n",
              "      <td>100percentfedup.com</td>\n",
              "      <td>http://conservativeangle.com/wp-content/upload...</td>\n",
              "      <td>bias</td>\n",
              "      <td>Real</td>\n",
              "      <td>funny snls solution democrat election denial s...</td>\n",
              "      <td>go article know coming donald trump scolded me...</td>\n",
              "      <td>1.0</td>\n",
              "    </tr>\n",
              "    <tr>\n",
              "      <th>26</th>\n",
              "      <td>EdJenner</td>\n",
              "      <td>2016-11-22T08:17:53.961+02:00</td>\n",
              "      <td>donald trump calls meeting with pressdresses d...</td>\n",
              "      <td>donald trump skips media delivers transition u...</td>\n",
              "      <td>english</td>\n",
              "      <td>100percentfedup.com</td>\n",
              "      <td>http://conservativeangle.com/wp-content/upload...</td>\n",
              "      <td>bias</td>\n",
              "      <td>Real</td>\n",
              "      <td>donald trump calls meeting pressdresses real f...</td>\n",
              "      <td>donald trump skips media delivers transition u...</td>\n",
              "      <td>1.0</td>\n",
              "    </tr>\n",
              "    <tr>\n",
              "      <th>27</th>\n",
              "      <td>Fed Up</td>\n",
              "      <td>2016-11-22T21:26:00.000+02:00</td>\n",
              "      <td>oops crybaby hamilton stars who lectured pence...</td>\n",
              "      <td>go to article the left is shameful in their la...</td>\n",
              "      <td>english</td>\n",
              "      <td>100percentfedup.com</td>\n",
              "      <td>http://100percentfedup.com/wp-content/uploads/...</td>\n",
              "      <td>bias</td>\n",
              "      <td>Real</td>\n",
              "      <td>oops crybaby hamilton stars lectured pence hav...</td>\n",
              "      <td>go article left shameful latest effort create ...</td>\n",
              "      <td>1.0</td>\n",
              "    </tr>\n",
              "    <tr>\n",
              "      <th>28</th>\n",
              "      <td>EdJenner</td>\n",
              "      <td>2016-11-23T01:48:30.528+02:00</td>\n",
              "      <td>white trumpbashing lib reprimanded on live cnn...</td>\n",
              "      <td>boom kellyanne conway shuts down cnns cuomo ba...</td>\n",
              "      <td>english</td>\n",
              "      <td>100percentfedup.com</td>\n",
              "      <td>http://conservativeangle.com/wp-content/upload...</td>\n",
              "      <td>bias</td>\n",
              "      <td>Real</td>\n",
              "      <td>white trumpbashing lib reprimanded live cnn in...</td>\n",
              "      <td>boom kellyanne conway shuts cnns cuomo barracu...</td>\n",
              "      <td>1.0</td>\n",
              "    </tr>\n",
              "    <tr>\n",
              "      <th>29</th>\n",
              "      <td>Barracuda Brigade</td>\n",
              "      <td>2016-11-23T21:54:00.000+02:00</td>\n",
              "      <td>boom kellyanne conway shuts down cnns cuomo</td>\n",
              "      <td>sharia in america how minneapolis muslims are ...</td>\n",
              "      <td>english</td>\n",
              "      <td>100percentfedup.com</td>\n",
              "      <td>http://bb4sp.com/wp-content/uploads/2016/11/Fu...</td>\n",
              "      <td>bias</td>\n",
              "      <td>Real</td>\n",
              "      <td>boom kellyanne conway shuts cnns cuomo</td>\n",
              "      <td>sharia america minneapolis muslims still recru...</td>\n",
              "      <td>1.0</td>\n",
              "    </tr>\n",
              "    <tr>\n",
              "      <th>30</th>\n",
              "      <td>Barracuda Brigade</td>\n",
              "      <td>2016-11-23T21:06:00.000+02:00</td>\n",
              "      <td>sharia in america how minneapolis muslims are ...</td>\n",
              "      <td>go to article wow milwaukees sheriff david cla...</td>\n",
              "      <td>english</td>\n",
              "      <td>100percentfedup.com</td>\n",
              "      <td>http://bb4sp.com/wp-content/uploads/2016/11/Fu...</td>\n",
              "      <td>bias</td>\n",
              "      <td>Real</td>\n",
              "      <td>sharia america minneapolis muslims still recru...</td>\n",
              "      <td>go article wow milwaukees sheriff david clarke...</td>\n",
              "      <td>1.0</td>\n",
              "    </tr>\n",
              "    <tr>\n",
              "      <th>31</th>\n",
              "      <td>EdJenner</td>\n",
              "      <td>2016-11-25T09:24:40.752+02:00</td>\n",
              "      <td>sheriff clarke on obamas final days obamas lik...</td>\n",
              "      <td>go to article austin texas was the scene of pr...</td>\n",
              "      <td>english</td>\n",
              "      <td>100percentfedup.com</td>\n",
              "      <td>http://conservativeangle.com/wp-content/upload...</td>\n",
              "      <td>bias</td>\n",
              "      <td>Real</td>\n",
              "      <td>sheriff clarke obamas final days obamas like t...</td>\n",
              "      <td>go article austin texas scene protest presiden...</td>\n",
              "      <td>1.0</td>\n",
              "    </tr>\n",
              "    <tr>\n",
              "      <th>32</th>\n",
              "      <td>EdJenner</td>\n",
              "      <td>2016-11-25T15:21:54.424+02:00</td>\n",
              "      <td>antitrump crowd chants whats better than  dead...</td>\n",
              "      <td>st century wire says \\nas western media outlet...</td>\n",
              "      <td>english</td>\n",
              "      <td>100percentfedup.com</td>\n",
              "      <td>http://conservativeangle.com/wp-content/upload...</td>\n",
              "      <td>bias</td>\n",
              "      <td>Real</td>\n",
              "      <td>antitrump crowd chants whats better dead cops ...</td>\n",
              "      <td>st century wire says western media outlets lik...</td>\n",
              "      <td>1.0</td>\n",
              "    </tr>\n",
              "    <tr>\n",
              "      <th>33</th>\n",
              "      <td>No Author</td>\n",
              "      <td>2016-10-27T02:24:00.000+03:00</td>\n",
              "      <td>intl community still financing protecting terr...</td>\n",
              "      <td>st century wire says \\nwire reported on friday...</td>\n",
              "      <td>english</td>\n",
              "      <td>21stcenturywire.com</td>\n",
              "      <td>http://21stcenturywire.com/wp-content/uploads/...</td>\n",
              "      <td>conspiracy</td>\n",
              "      <td>Fake</td>\n",
              "      <td>intl community still financing protecting terr...</td>\n",
              "      <td>st century wire says wire reported friday fbis...</td>\n",
              "      <td>1.0</td>\n",
              "    </tr>\n",
              "    <tr>\n",
              "      <th>34</th>\n",
              "      <td>No Author</td>\n",
              "      <td>2016-10-29T16:20:00.000+03:00</td>\n",
              "      <td>fbi director comeys leaked memo explains why h...</td>\n",
              "      <td>in a stunning turn of events  days before the ...</td>\n",
              "      <td>english</td>\n",
              "      <td>21stcenturywire.com</td>\n",
              "      <td>http://21stcenturywire.com/wp-content/uploads/...</td>\n",
              "      <td>conspiracy</td>\n",
              "      <td>Fake</td>\n",
              "      <td>fbi director comeys leaked memo explains hes r...</td>\n",
              "      <td>stunning turn events days presidential electio...</td>\n",
              "      <td>1.0</td>\n",
              "    </tr>\n",
              "    <tr>\n",
              "      <th>35</th>\n",
              "      <td>Shawn Helton</td>\n",
              "      <td>2016-10-29T04:22:00.000+03:00</td>\n",
              "      <td>fbi redux whats behind new probe into hillary ...</td>\n",
              "      <td>a tidal wave of revelations is pouring out of ...</td>\n",
              "      <td>english</td>\n",
              "      <td>21stcenturywire.com</td>\n",
              "      <td>http://21stcenturywire.com/wp-content/uploads/...</td>\n",
              "      <td>conspiracy</td>\n",
              "      <td>Fake</td>\n",
              "      <td>fbi redux whats behind new probe hillary clint...</td>\n",
              "      <td>tidal wave revelations pouring clinton campaig...</td>\n",
              "      <td>1.0</td>\n",
              "    </tr>\n",
              "    <tr>\n",
              "      <th>36</th>\n",
              "      <td>Mike Rivero</td>\n",
              "      <td>2016-11-02T01:43:00.000+02:00</td>\n",
              "      <td>party corruption clinton campaign directly tie...</td>\n",
              "      <td>november   by wire  comments \\npatrick henning...</td>\n",
              "      <td>english</td>\n",
              "      <td>21stcenturywire.com</td>\n",
              "      <td>http://i1.wp.com/21stcenturywire.com/wp-conten...</td>\n",
              "      <td>conspiracy</td>\n",
              "      <td>Fake</td>\n",
              "      <td>party corruption clinton campaign directly tie...</td>\n",
              "      <td>november wire comments patrick henningsen st c...</td>\n",
              "      <td>1.0</td>\n",
              "    </tr>\n",
              "    <tr>\n",
              "      <th>37</th>\n",
              "      <td>No Author</td>\n",
              "      <td>2016-11-01T16:48:00.000+02:00</td>\n",
              "      <td>hillarys russian hack hoax the biggest lie of ...</td>\n",
              "      <td>november   by shawn helton  comment \\nshawn he...</td>\n",
              "      <td>english</td>\n",
              "      <td>21stcenturywire.com</td>\n",
              "      <td>http://i0.wp.com/21stcenturywire.com/wp-conten...</td>\n",
              "      <td>conspiracy</td>\n",
              "      <td>Fake</td>\n",
              "      <td>hillarys russian hack hoax biggest lie electio...</td>\n",
              "      <td>november shawn helton comment shawn helton st ...</td>\n",
              "      <td>1.0</td>\n",
              "    </tr>\n",
              "    <tr>\n",
              "      <th>38</th>\n",
              "      <td>Shawn Helton</td>\n",
              "      <td>2016-11-04T00:03:00.000+02:00</td>\n",
              "      <td>partners in crime goldman sachs the clintons  ...</td>\n",
              "      <td>st century wire says \\nthis should be the bigg...</td>\n",
              "      <td>english</td>\n",
              "      <td>21stcenturywire.com</td>\n",
              "      <td>http://i2.wp.com/21stcenturywire.com/wp-conten...</td>\n",
              "      <td>conspiracy</td>\n",
              "      <td>Fake</td>\n",
              "      <td>partners crime goldman sachs clintons wall street</td>\n",
              "      <td>st century wire says biggest revelation yet wi...</td>\n",
              "      <td>1.0</td>\n",
              "    </tr>\n",
              "    <tr>\n",
              "      <th>39</th>\n",
              "      <td>No Author</td>\n",
              "      <td>2016-11-04T15:33:00.000+02:00</td>\n",
              "      <td>wikileaks hillary clinton knew saudi qatar wer...</td>\n",
              "      <td>st century wire says \\nyesterday wikileaks edi...</td>\n",
              "      <td>english</td>\n",
              "      <td>21stcenturywire.com</td>\n",
              "      <td>http://i2.wp.com/21stcenturywire.com/wp-conten...</td>\n",
              "      <td>conspiracy</td>\n",
              "      <td>Fake</td>\n",
              "      <td>wikileaks hillary clinton knew saudi qatar fun...</td>\n",
              "      <td>st century wire says yesterday wikileaks edito...</td>\n",
              "      <td>1.0</td>\n",
              "    </tr>\n",
              "    <tr>\n",
              "      <th>40</th>\n",
              "      <td>No Author</td>\n",
              "      <td>2016-11-04T14:30:00.000+02:00</td>\n",
              "      <td>hillary clinton jumps the shark with trumps se...</td>\n",
              "      <td>st century wire says \\namid great mainstream m...</td>\n",
              "      <td>english</td>\n",
              "      <td>21stcenturywire.com</td>\n",
              "      <td>http://i0.wp.com/21stcenturywire.com/wp-conten...</td>\n",
              "      <td>conspiracy</td>\n",
              "      <td>Fake</td>\n",
              "      <td>hillary clinton jumps shark trumps secret russ...</td>\n",
              "      <td>st century wire says amid great mainstream med...</td>\n",
              "      <td>1.0</td>\n",
              "    </tr>\n",
              "    <tr>\n",
              "      <th>41</th>\n",
              "      <td>No Author</td>\n",
              "      <td>2016-11-06T07:48:00.000+02:00</td>\n",
              "      <td>prof michel chossudovsky discusses hillary cli...</td>\n",
              "      <td>november   by wire leave a comment \\nepisode  ...</td>\n",
              "      <td>english</td>\n",
              "      <td>21stcenturywire.com</td>\n",
              "      <td>http://i1.wp.com/21stcenturywire.com/wp-conten...</td>\n",
              "      <td>conspiracy</td>\n",
              "      <td>Fake</td>\n",
              "      <td>prof michel chossudovsky discusses hillary cli...</td>\n",
              "      <td>november wire leave comment episode sunday wir...</td>\n",
              "      <td>1.0</td>\n",
              "    </tr>\n",
              "    <tr>\n",
              "      <th>42</th>\n",
              "      <td>No Author</td>\n",
              "      <td>2016-11-06T22:52:00.000+02:00</td>\n",
              "      <td>episode   sunday wire ticktock usa with guests...</td>\n",
              "      <td>st century wire says \\nover the past months hi...</td>\n",
              "      <td>english</td>\n",
              "      <td>21stcenturywire.com</td>\n",
              "      <td>http://i2.wp.com/21stcenturywire.com/wp-conten...</td>\n",
              "      <td>conspiracy</td>\n",
              "      <td>Fake</td>\n",
              "      <td>episode sunday wire ticktock usa guests dr mar...</td>\n",
              "      <td>st century wire says past months hillary clint...</td>\n",
              "      <td>1.0</td>\n",
              "    </tr>\n",
              "    <tr>\n",
              "      <th>43</th>\n",
              "      <td>No Author</td>\n",
              "      <td>2016-11-09T17:06:00.000+02:00</td>\n",
              "      <td>kremlin putin congratulates trump hopes to wor...</td>\n",
              "      <td>latest posts wire we are a north american and ...</td>\n",
              "      <td>english</td>\n",
              "      <td>21stcenturywire.com</td>\n",
              "      <td>http://i0.wp.com/21stcenturywire.com/wp-conten...</td>\n",
              "      <td>conspiracy</td>\n",
              "      <td>Fake</td>\n",
              "      <td>kremlin putin congratulates trump hopes work t...</td>\n",
              "      <td>latest posts wire north american europeanbased...</td>\n",
              "      <td>1.0</td>\n",
              "    </tr>\n",
              "    <tr>\n",
              "      <th>44</th>\n",
              "      <td>No Author</td>\n",
              "      <td>2016-11-10T12:04:04.874+02:00</td>\n",
              "      <td>americas primal scream david icke explains rea...</td>\n",
              "      <td>st century wire says \\nmexicos billionaire tyc...</td>\n",
              "      <td>english</td>\n",
              "      <td>21stcenturywire.com</td>\n",
              "      <td>http://i1.wp.com/21stcenturywire.com/wp-conten...</td>\n",
              "      <td>conspiracy</td>\n",
              "      <td>Fake</td>\n",
              "      <td>americas primal scream david icke explains rea...</td>\n",
              "      <td>st century wire says mexicos billionaire tycoo...</td>\n",
              "      <td>1.0</td>\n",
              "    </tr>\n",
              "    <tr>\n",
              "      <th>45</th>\n",
              "      <td>No Author</td>\n",
              "      <td>2016-11-10T14:42:00.000+02:00</td>\n",
              "      <td>mexicos richest oligarch loses billions on new...</td>\n",
              "      <td>st century wire says \\none of the great myths ...</td>\n",
              "      <td>english</td>\n",
              "      <td>21stcenturywire.com</td>\n",
              "      <td>http://i2.wp.com/21stcenturywire.com/wp-conten...</td>\n",
              "      <td>conspiracy</td>\n",
              "      <td>Fake</td>\n",
              "      <td>mexicos richest oligarch loses billions news t...</td>\n",
              "      <td>st century wire says one great myths spun esta...</td>\n",
              "      <td>1.0</td>\n",
              "    </tr>\n",
              "    <tr>\n",
              "      <th>46</th>\n",
              "      <td>No Author</td>\n",
              "      <td>2016-11-11T13:52:00.000+02:00</td>\n",
              "      <td>beyonce jay z hillary clinton  you dont repres...</td>\n",
              "      <td>st century wire says \\nus college students con...</td>\n",
              "      <td>english</td>\n",
              "      <td>21stcenturywire.com</td>\n",
              "      <td>http://i1.wp.com/21stcenturywire.com/wp-conten...</td>\n",
              "      <td>conspiracy</td>\n",
              "      <td>Fake</td>\n",
              "      <td>beyonce jay z hillary clinton dont represent b...</td>\n",
              "      <td>st century wire says us college students conti...</td>\n",
              "      <td>1.0</td>\n",
              "    </tr>\n",
              "    <tr>\n",
              "      <th>47</th>\n",
              "      <td>No Author</td>\n",
              "      <td>2016-11-11T15:35:00.000+02:00</td>\n",
              "      <td>video female college students protesting becau...</td>\n",
              "      <td>november   by shawn helton leave a comment \\ns...</td>\n",
              "      <td>english</td>\n",
              "      <td>21stcenturywire.com</td>\n",
              "      <td>http://i2.wp.com/21stcenturywire.com/wp-conten...</td>\n",
              "      <td>conspiracy</td>\n",
              "      <td>Fake</td>\n",
              "      <td>video female college students protesting trump...</td>\n",
              "      <td>november shawn helton leave comment shawn helt...</td>\n",
              "      <td>1.0</td>\n",
              "    </tr>\n",
              "    <tr>\n",
              "      <th>48</th>\n",
              "      <td>Mike Rivero</td>\n",
              "      <td>2016-11-12T23:13:29.272+02:00</td>\n",
              "      <td>color rev agit prop george soros moveon agitat...</td>\n",
              "      <td>st century wire says \\norganized efforts are u...</td>\n",
              "      <td>english</td>\n",
              "      <td>21stcenturywire.com</td>\n",
              "      <td>http://i0.wp.com/21stcenturywire.com/wp-conten...</td>\n",
              "      <td>conspiracy</td>\n",
              "      <td>Fake</td>\n",
              "      <td>color rev agit prop george soros moveon agitat...</td>\n",
              "      <td>st century wire says organized efforts underwa...</td>\n",
              "      <td>1.0</td>\n",
              "    </tr>\n",
              "    <tr>\n",
              "      <th>49</th>\n",
              "      <td>Mike Rivero</td>\n",
              "      <td>2016-11-12T23:13:50.035+02:00</td>\n",
              "      <td>henningsen us antitrump protests similar to so...</td>\n",
              "      <td>st century wire says \\nyou can imagine how nat...</td>\n",
              "      <td>english</td>\n",
              "      <td>21stcenturywire.com</td>\n",
              "      <td>http://i0.wp.com/21stcenturywire.com/wp-conten...</td>\n",
              "      <td>conspiracy</td>\n",
              "      <td>Fake</td>\n",
              "      <td>henningsen us antitrump protests similar soros...</td>\n",
              "      <td>st century wire says imagine nations like chin...</td>\n",
              "      <td>1.0</td>\n",
              "    </tr>\n",
              "  </tbody>\n",
              "</table>\n",
              "</div>\n",
              "      <button class=\"colab-df-convert\" onclick=\"convertToInteractive('df-428f3e54-f025-4380-a162-f300d5c82c4e')\"\n",
              "              title=\"Convert this dataframe to an interactive table.\"\n",
              "              style=\"display:none;\">\n",
              "        \n",
              "  <svg xmlns=\"http://www.w3.org/2000/svg\" height=\"24px\"viewBox=\"0 0 24 24\"\n",
              "       width=\"24px\">\n",
              "    <path d=\"M0 0h24v24H0V0z\" fill=\"none\"/>\n",
              "    <path d=\"M18.56 5.44l.94 2.06.94-2.06 2.06-.94-2.06-.94-.94-2.06-.94 2.06-2.06.94zm-11 1L8.5 8.5l.94-2.06 2.06-.94-2.06-.94L8.5 2.5l-.94 2.06-2.06.94zm10 10l.94 2.06.94-2.06 2.06-.94-2.06-.94-.94-2.06-.94 2.06-2.06.94z\"/><path d=\"M17.41 7.96l-1.37-1.37c-.4-.4-.92-.59-1.43-.59-.52 0-1.04.2-1.43.59L10.3 9.45l-7.72 7.72c-.78.78-.78 2.05 0 2.83L4 21.41c.39.39.9.59 1.41.59.51 0 1.02-.2 1.41-.59l7.78-7.78 2.81-2.81c.8-.78.8-2.07 0-2.86zM5.41 20L4 18.59l7.72-7.72 1.47 1.35L5.41 20z\"/>\n",
              "  </svg>\n",
              "      </button>\n",
              "      \n",
              "  <style>\n",
              "    .colab-df-container {\n",
              "      display:flex;\n",
              "      flex-wrap:wrap;\n",
              "      gap: 12px;\n",
              "    }\n",
              "\n",
              "    .colab-df-convert {\n",
              "      background-color: #E8F0FE;\n",
              "      border: none;\n",
              "      border-radius: 50%;\n",
              "      cursor: pointer;\n",
              "      display: none;\n",
              "      fill: #1967D2;\n",
              "      height: 32px;\n",
              "      padding: 0 0 0 0;\n",
              "      width: 32px;\n",
              "    }\n",
              "\n",
              "    .colab-df-convert:hover {\n",
              "      background-color: #E2EBFA;\n",
              "      box-shadow: 0px 1px 2px rgba(60, 64, 67, 0.3), 0px 1px 3px 1px rgba(60, 64, 67, 0.15);\n",
              "      fill: #174EA6;\n",
              "    }\n",
              "\n",
              "    [theme=dark] .colab-df-convert {\n",
              "      background-color: #3B4455;\n",
              "      fill: #D2E3FC;\n",
              "    }\n",
              "\n",
              "    [theme=dark] .colab-df-convert:hover {\n",
              "      background-color: #434B5C;\n",
              "      box-shadow: 0px 1px 3px 1px rgba(0, 0, 0, 0.15);\n",
              "      filter: drop-shadow(0px 1px 2px rgba(0, 0, 0, 0.3));\n",
              "      fill: #FFFFFF;\n",
              "    }\n",
              "  </style>\n",
              "\n",
              "      <script>\n",
              "        const buttonEl =\n",
              "          document.querySelector('#df-428f3e54-f025-4380-a162-f300d5c82c4e button.colab-df-convert');\n",
              "        buttonEl.style.display =\n",
              "          google.colab.kernel.accessAllowed ? 'block' : 'none';\n",
              "\n",
              "        async function convertToInteractive(key) {\n",
              "          const element = document.querySelector('#df-428f3e54-f025-4380-a162-f300d5c82c4e');\n",
              "          const dataTable =\n",
              "            await google.colab.kernel.invokeFunction('convertToInteractive',\n",
              "                                                     [key], {});\n",
              "          if (!dataTable) return;\n",
              "\n",
              "          const docLinkHtml = 'Like what you see? Visit the ' +\n",
              "            '<a target=\"_blank\" href=https://colab.research.google.com/notebooks/data_table.ipynb>data table notebook</a>'\n",
              "            + ' to learn more about interactive tables.';\n",
              "          element.innerHTML = '';\n",
              "          dataTable['output_type'] = 'display_data';\n",
              "          await google.colab.output.renderOutput(dataTable, element);\n",
              "          const docLink = document.createElement('div');\n",
              "          docLink.innerHTML = docLinkHtml;\n",
              "          element.appendChild(docLink);\n",
              "        }\n",
              "      </script>\n",
              "    </div>\n",
              "  </div>\n",
              "  "
            ]
          },
          "metadata": {},
          "execution_count": 22
        }
      ],
      "source": [
        "data.head(50)\n"
      ]
    },
    {
      "cell_type": "code",
      "execution_count": null,
      "metadata": {
        "colab": {
          "base_uri": "https://localhost:8080/"
        },
        "id": "SejGxfOkj6oM",
        "outputId": "583f8bc1-40b5-4067-f1cd-92f380cc446d"
      },
      "outputs": [
        {
          "output_type": "execute_result",
          "data": {
            "text/plain": [
              "(2045, 12)"
            ]
          },
          "metadata": {},
          "execution_count": 23
        }
      ],
      "source": [
        "data.shape"
      ]
    },
    {
      "cell_type": "code",
      "execution_count": null,
      "metadata": {
        "colab": {
          "base_uri": "https://localhost:8080/"
        },
        "id": "hW-IFkJ0kCqf",
        "outputId": "d4b6f15a-3f10-4067-f463-628c2bf664cb"
      },
      "outputs": [
        {
          "output_type": "execute_result",
          "data": {
            "text/plain": [
              "Index(['author', 'published', 'title', 'text', 'language', 'site_url',\n",
              "       'main_img_url', 'type', 'label', 'title_without_stopwords',\n",
              "       'text_without_stopwords', 'hasImage'],\n",
              "      dtype='object')"
            ]
          },
          "metadata": {},
          "execution_count": 24
        }
      ],
      "source": [
        "data.columns   "
      ]
    },
    {
      "cell_type": "markdown",
      "source": [
        "#**Exploratory Data Analysis (EDA)**"
      ],
      "metadata": {
        "id": "tcrHOJgM1ei-"
      }
    },
    {
      "cell_type": "markdown",
      "source": [
        "##Pie-chart representing Real vs Fake news - \n",
        "\n",
        "\n"
      ],
      "metadata": {
        "id": "t0Pj1y8DPGHy"
      }
    },
    {
      "cell_type": "code",
      "execution_count": null,
      "metadata": {
        "id": "bpL8LlGtubZt",
        "colab": {
          "base_uri": "https://localhost:8080/",
          "height": 499
        },
        "outputId": "2d881595-204b-45cb-b961-31a2ea0d955f"
      },
      "outputs": [
        {
          "output_type": "execute_result",
          "data": {
            "text/plain": [
              "<matplotlib.legend.Legend at 0x7ff5d608ff50>"
            ]
          },
          "metadata": {},
          "execution_count": 19
        },
        {
          "output_type": "display_data",
          "data": {
            "text/plain": [
              "<Figure size 576x576 with 1 Axes>"
            ],
            "image/png": "[encoded data removed]"
          },
          "metadata": {}
        }
      ],
      "source": [
        "#counts the number/%age of real and fake news\n",
        "import math\n",
        "different_labels = data['label'].unique()\n",
        "counts = data['label'].value_counts().values\n",
        "#plotting pie chart for real vs fake\n",
        "plt.figure(figsize=(8,8))\n",
        "plt.pie(counts, labels=['Fake', 'Real'],autopct='%1.1f%%') #autopct to display percent value using py string formatting\n",
        "plt.title(\"Pie Chart for Real vs Fake News\")\n",
        "plt.legend()"
      ]
    },
    {
      "cell_type": "markdown",
      "source": [
        "##Pie-Chart representing Types of articles."
      ],
      "metadata": {
        "id": "oBi93W1TPMrr"
      }
    },
    {
      "cell_type": "code",
      "source": [
        "data['type'].value_counts().plot.pie(figsize = (15,12), startangle = 75,autopct = \"%.1f%%\",shadow=True)\n",
        "plt.title('Types of Articles', fontsize = 25)\n",
        "plt.axis('off')\n",
        "plt.legend()\n",
        "plt.show()"
      ],
      "metadata": {
        "id": "OEGcjNtpIyq9",
        "colab": {
          "base_uri": "https://localhost:8080/",
          "height": 708
        },
        "outputId": "a192f63d-ae16-4e46-bf49-01b4cd254a4c"
      },
      "execution_count": null,
      "outputs": [
        {
          "output_type": "display_data",
          "data": {
            "text/plain": [
              "<Figure size 1080x864 with 1 Axes>"
            ],
            "image/png": "[encoded data removed]"
          },
          "metadata": {}
        }
      ]
    },
    {
      "cell_type": "markdown",
      "source": [
        "##Real and Fake strip plot"
      ],
      "metadata": {
        "id": "G1dppOz1PR9n"
      }
    },
    {
      "cell_type": "code",
      "source": [
        "sns.stripplot(x=\"label\", y=\"type\", data=data,size=8,palette=\"Set1\")"
      ],
      "metadata": {
        "id": "qSJ-Yj3B5gKF",
        "colab": {
          "base_uri": "https://localhost:8080/",
          "height": 296
        },
        "outputId": "17334ec0-01b2-4354-c4cb-3e0f418a63a6"
      },
      "execution_count": null,
      "outputs": [
        {
          "output_type": "execute_result",
          "data": {
            "text/plain": [
              "<matplotlib.axes._subplots.AxesSubplot at 0x7ff5d60ea110>"
            ]
          },
          "metadata": {},
          "execution_count": 21
        },
        {
          "output_type": "display_data",
          "data": {
            "text/plain": [
              "<Figure size 432x288 with 1 Axes>"
            ],
            "image/png": "[encoded data removed]"
          },
          "metadata": {
            "needs_background": "light"
          }
        }
      ]
    },
    {
      "cell_type": "markdown",
      "source": [
        "##Bar graph representing Count vs Language"
      ],
      "metadata": {
        "id": "nXEacHPrPWk3"
      }
    },
    {
      "cell_type": "code",
      "source": [
        "sns.set_style(\"darkgrid\")\n",
        "sns.countplot(data['language'])"
      ],
      "metadata": {
        "id": "mfZjUuy9JOd-",
        "colab": {
          "base_uri": "https://localhost:8080/",
          "height": 351
        },
        "outputId": "a8d8923c-a777-42d9-cec2-35f5b7c1680e"
      },
      "execution_count": null,
      "outputs": [
        {
          "output_type": "stream",
          "name": "stderr",
          "text": [
            "/usr/local/lib/python3.7/dist-packages/seaborn/_decorators.py:43: FutureWarning: Pass the following variable as a keyword arg: x. From version 0.12, the only valid positional argument will be `data`, and passing other arguments without an explicit keyword will result in an error or misinterpretation.\n",
            "  FutureWarning\n"
          ]
        },
        {
          "output_type": "execute_result",
          "data": {
            "text/plain": [
              "<matplotlib.axes._subplots.AxesSubplot at 0x7ff5d59fb3d0>"
            ]
          },
          "metadata": {},
          "execution_count": 22
        },
        {
          "output_type": "display_data",
          "data": {
            "text/plain": [
              "<Figure size 432x288 with 1 Axes>"
            ],
            "image/png": "[encoded data removed]"
          },
          "metadata": {}
        }
      ]
    },
    {
      "cell_type": "markdown",
      "source": [
        "##Word Cloud representing the most occuring words in the given dataset."
      ],
      "metadata": {
        "id": "6eViXY80Pbgh"
      }
    },
    {
      "cell_type": "code",
      "source": [
        "from wordcloud import WordCloud \n",
        "wc = WordCloud(background_color=\"black\", max_words=100,\n",
        "               max_font_size=256,\n",
        "               random_state=42, width=1000, height=1000)\n",
        "wc.generate(' '.join(data['text_without_stopwords']))\n",
        "plt.imshow(wc)\n",
        "plt.axis('off')\n",
        "plt.show()"
      ],
      "metadata": {
        "colab": {
          "base_uri": "https://localhost:8080/",
          "height": 248
        },
        "id": "aIql-u26PZ15",
        "outputId": "c66c77bc-98e4-4895-8a97-6d0ef2cb9d5c"
      },
      "execution_count": null,
      "outputs": [
        {
          "output_type": "display_data",
          "data": {
            "text/plain": [
              "<Figure size 432x288 with 1 Axes>"
            ],
            "image/png": "[encoded data removed]"
          },
          "metadata": {}
        }
      ]
    },
    {
      "cell_type": "markdown",
      "source": [
        "##Bar Graph representing number of articles written vs author."
      ],
      "metadata": {
        "id": "_X2F_V3aUwis"
      }
    },
    {
      "cell_type": "code",
      "source": [
        "#top 5 authors\n",
        "d = data['author'].value_counts().sort_values(ascending=False).head(5)\n",
        "d = pd.DataFrame(d)\n",
        "d = d.reset_index() # dataframe with top 5 authors\n",
        "\n",
        "# Plotting\n",
        "sns.set()\n",
        "plt.figure(figsize=(15,4))\n",
        "sns.barplot(x='index', y='author', data=d)\n",
        "plt.xlabel(\"\\n Authors\")\n",
        "plt.ylabel(\"Number of Articles written\")\n",
        "plt.title(\"Top 5 authors\\n\")\n",
        "plt.show()"
      ],
      "metadata": {
        "colab": {
          "base_uri": "https://localhost:8080/",
          "height": 331
        },
        "id": "xlIY97H4ZJth",
        "outputId": "99d4bfe7-c036-4be3-af66-4fe6a6445c51"
      },
      "execution_count": null,
      "outputs": [
        {
          "output_type": "display_data",
          "data": {
            "text/plain": [
              "<Figure size 1080x288 with 1 Axes>"
            ],
            "image/png": "[encoded data removed]"
          },
          "metadata": {}
        }
      ]
    },
    {
      "cell_type": "markdown",
      "source": [
        "##Bar graph representing the top 10 fake news sites by taking the site URL into consideration."
      ],
      "metadata": {
        "id": "MQKffyL-VDeN"
      }
    },
    {
      "cell_type": "code",
      "source": [
        "#top 10 fake news sites\n",
        "d = data[data['label'] == 'Fake']['site_url'].value_counts().sort_values(ascending=False).head(10)\n",
        "d = pd.DataFrame(d)\n",
        "d = d.reset_index() # dataframe with top 10 fake news site\n",
        "\n",
        "# Plotting\n",
        "sns.set()\n",
        "plt.figure(figsize=(25,7))\n",
        "sns.barplot(x='index', y='site_url', data=d)\n",
        "plt.xlabel(\"\\n site_url\")\n",
        "plt.ylabel(\"Number of Articles written\")\n",
        "plt.title(\"Top 10 Fake news sites\\n\")\n",
        "plt.show()"
      ],
      "metadata": {
        "colab": {
          "base_uri": "https://localhost:8080/",
          "height": 388
        },
        "id": "OJT5he2GZgw_",
        "outputId": "22bc9640-cf59-48be-d863-78ff71ae6213"
      },
      "execution_count": null,
      "outputs": [
        {
          "output_type": "display_data",
          "data": {
            "text/plain": [
              "<Figure size 1800x504 with 1 Axes>"
            ],
            "image/png": "[encoded data removed]"
          },
          "metadata": {}
        }
      ]
    },
    {
      "cell_type": "markdown",
      "source": [
        "##Bar graph representing the top 10 trustworthy news sites by taking the site URL into consideration."
      ],
      "metadata": {
        "id": "qtiwkuFmVhBD"
      }
    },
    {
      "cell_type": "code",
      "source": [
        "d = data[data['label'] == 'Real']['site_url'].value_counts().sort_values(ascending=False).head(10)\n",
        "d = pd.DataFrame(d)\n",
        "d = d.reset_index() # dataframe with top 10 Trustworthy news site\n",
        "\n",
        "# Plotting\n",
        "sns.set()\n",
        "plt.figure(figsize=(25,7))\n",
        "sns.barplot(x='index', y='site_url', data=d)\n",
        "plt.xlabel(\"\\n site_url\")\n",
        "plt.ylabel(\"Number of Articles written\")\n",
        "plt.title(\"Top 10 Trustworthy news sites\\n\")\n",
        "plt.show()"
      ],
      "metadata": {
        "colab": {
          "base_uri": "https://localhost:8080/",
          "height": 388
        },
        "id": "z0Rj8tygZ3E2",
        "outputId": "bc9d24ff-5c66-4b45-e1ce-ff4f62d1c6ba"
      },
      "execution_count": null,
      "outputs": [
        {
          "output_type": "display_data",
          "data": {
            "text/plain": [
              "<Figure size 1800x504 with 1 Axes>"
            ],
            "image/png": "[encoded data removed]"
          },
          "metadata": {}
        }
      ]
    },
    {
      "cell_type": "markdown",
      "source": [
        "##**Modelling**"
      ],
      "metadata": {
        "id": "aOPMtlBw-IpS"
      }
    },
    {
      "cell_type": "markdown",
      "source": [
        "The three models that we picked for real vs fake news analysis are:\n",
        "\n",
        "\n",
        "1. Random Forest\n",
        "2. Decision Tree\n",
        "3. Support Vector Machine (SVM)\n",
        "\n",
        "The predictions corresponding to these models are as follows:\n",
        "\n",
        "\n",
        "\n",
        "\n"
      ],
      "metadata": {
        "id": "wZvxvQUdiLUL"
      }
    },
    {
      "cell_type": "markdown",
      "source": [
        "##Importing libraries for Modelling."
      ],
      "metadata": {
        "id": "v4uOzlKDWnLR"
      }
    },
    {
      "cell_type": "code",
      "source": [
        "from IPython.core.display import HTML\n",
        "from wordcloud import WordCloud\n",
        "from sklearn.feature_extraction.text import TfidfVectorizer\n",
        "from sklearn.model_selection import train_test_split\n",
        "from sklearn import metrics\n",
        "from sklearn.ensemble import RandomForestClassifier, AdaBoostClassifier\n",
        "from sklearn.tree import DecisionTreeClassifier\n",
        "\n",
        "from datetime import datetime\n",
        "from sklearn.feature_extraction.text import CountVectorizer\n",
        "from pandas import DataFrame\n",
        "from collections import OrderedDict "
      ],
      "metadata": {
        "id": "u4kFutQHEq_c"
      },
      "execution_count": null,
      "outputs": []
    },
    {
      "cell_type": "code",
      "source": [
        "features = data[['site_url', 'text_without_stopwords']]\n",
        "features.head(5)"
      ],
      "metadata": {
        "colab": {
          "base_uri": "https://localhost:8080/",
          "height": 206
        },
        "id": "VokzprEH-Ltj",
        "outputId": "67cce999-6951-41f0-e4bb-74df23d8dbc3"
      },
      "execution_count": null,
      "outputs": [
        {
          "output_type": "execute_result",
          "data": {
            "text/plain": [
              "              site_url                             text_without_stopwords\n",
              "0  100percentfedup.com  print pay back money plus interest entire fami...\n",
              "1  100percentfedup.com  attorney general loretta lynch plead fifth bar...\n",
              "2  100percentfedup.com  red state fox news sunday reported morning ant...\n",
              "3  100percentfedup.com  email kayla mueller prisoner tortured isis cha...\n",
              "4  100percentfedup.com  email healthcare reform make america great sin..."
            ],
            "text/html": [
              "\n",
              "  <div id=\"df-d2724046-4f52-402d-a536-364d5893e79e\">\n",
              "    <div class=\"colab-df-container\">\n",
              "      <div>\n",
              "<style scoped>\n",
              "    .dataframe tbody tr th:only-of-type {\n",
              "        vertical-align: middle;\n",
              "    }\n",
              "\n",
              "    .dataframe tbody tr th {\n",
              "        vertical-align: top;\n",
              "    }\n",
              "\n",
              "    .dataframe thead th {\n",
              "        text-align: right;\n",
              "    }\n",
              "</style>\n",
              "<table border=\"1\" class=\"dataframe\">\n",
              "  <thead>\n",
              "    <tr style=\"text-align: right;\">\n",
              "      <th></th>\n",
              "      <th>site_url</th>\n",
              "      <th>text_without_stopwords</th>\n",
              "    </tr>\n",
              "  </thead>\n",
              "  <tbody>\n",
              "    <tr>\n",
              "      <th>0</th>\n",
              "      <td>100percentfedup.com</td>\n",
              "      <td>print pay back money plus interest entire fami...</td>\n",
              "    </tr>\n",
              "    <tr>\n",
              "      <th>1</th>\n",
              "      <td>100percentfedup.com</td>\n",
              "      <td>attorney general loretta lynch plead fifth bar...</td>\n",
              "    </tr>\n",
              "    <tr>\n",
              "      <th>2</th>\n",
              "      <td>100percentfedup.com</td>\n",
              "      <td>red state fox news sunday reported morning ant...</td>\n",
              "    </tr>\n",
              "    <tr>\n",
              "      <th>3</th>\n",
              "      <td>100percentfedup.com</td>\n",
              "      <td>email kayla mueller prisoner tortured isis cha...</td>\n",
              "    </tr>\n",
              "    <tr>\n",
              "      <th>4</th>\n",
              "      <td>100percentfedup.com</td>\n",
              "      <td>email healthcare reform make america great sin...</td>\n",
              "    </tr>\n",
              "  </tbody>\n",
              "</table>\n",
              "</div>\n",
              "      <button class=\"colab-df-convert\" onclick=\"convertToInteractive('df-d2724046-4f52-402d-a536-364d5893e79e')\"\n",
              "              title=\"Convert this dataframe to an interactive table.\"\n",
              "              style=\"display:none;\">\n",
              "        \n",
              "  <svg xmlns=\"http://www.w3.org/2000/svg\" height=\"24px\"viewBox=\"0 0 24 24\"\n",
              "       width=\"24px\">\n",
              "    <path d=\"M0 0h24v24H0V0z\" fill=\"none\"/>\n",
              "    <path d=\"M18.56 5.44l.94 2.06.94-2.06 2.06-.94-2.06-.94-.94-2.06-.94 2.06-2.06.94zm-11 1L8.5 8.5l.94-2.06 2.06-.94-2.06-.94L8.5 2.5l-.94 2.06-2.06.94zm10 10l.94 2.06.94-2.06 2.06-.94-2.06-.94-.94-2.06-.94 2.06-2.06.94z\"/><path d=\"M17.41 7.96l-1.37-1.37c-.4-.4-.92-.59-1.43-.59-.52 0-1.04.2-1.43.59L10.3 9.45l-7.72 7.72c-.78.78-.78 2.05 0 2.83L4 21.41c.39.39.9.59 1.41.59.51 0 1.02-.2 1.41-.59l7.78-7.78 2.81-2.81c.8-.78.8-2.07 0-2.86zM5.41 20L4 18.59l7.72-7.72 1.47 1.35L5.41 20z\"/>\n",
              "  </svg>\n",
              "      </button>\n",
              "      \n",
              "  <style>\n",
              "    .colab-df-container {\n",
              "      display:flex;\n",
              "      flex-wrap:wrap;\n",
              "      gap: 12px;\n",
              "    }\n",
              "\n",
              "    .colab-df-convert {\n",
              "      background-color: #E8F0FE;\n",
              "      border: none;\n",
              "      border-radius: 50%;\n",
              "      cursor: pointer;\n",
              "      display: none;\n",
              "      fill: #1967D2;\n",
              "      height: 32px;\n",
              "      padding: 0 0 0 0;\n",
              "      width: 32px;\n",
              "    }\n",
              "\n",
              "    .colab-df-convert:hover {\n",
              "      background-color: #E2EBFA;\n",
              "      box-shadow: 0px 1px 2px rgba(60, 64, 67, 0.3), 0px 1px 3px 1px rgba(60, 64, 67, 0.15);\n",
              "      fill: #174EA6;\n",
              "    }\n",
              "\n",
              "    [theme=dark] .colab-df-convert {\n",
              "      background-color: #3B4455;\n",
              "      fill: #D2E3FC;\n",
              "    }\n",
              "\n",
              "    [theme=dark] .colab-df-convert:hover {\n",
              "      background-color: #434B5C;\n",
              "      box-shadow: 0px 1px 3px 1px rgba(0, 0, 0, 0.15);\n",
              "      filter: drop-shadow(0px 1px 2px rgba(0, 0, 0, 0.3));\n",
              "      fill: #FFFFFF;\n",
              "    }\n",
              "  </style>\n",
              "\n",
              "      <script>\n",
              "        const buttonEl =\n",
              "          document.querySelector('#df-d2724046-4f52-402d-a536-364d5893e79e button.colab-df-convert');\n",
              "        buttonEl.style.display =\n",
              "          google.colab.kernel.accessAllowed ? 'block' : 'none';\n",
              "\n",
              "        async function convertToInteractive(key) {\n",
              "          const element = document.querySelector('#df-d2724046-4f52-402d-a536-364d5893e79e');\n",
              "          const dataTable =\n",
              "            await google.colab.kernel.invokeFunction('convertToInteractive',\n",
              "                                                     [key], {});\n",
              "          if (!dataTable) return;\n",
              "\n",
              "          const docLinkHtml = 'Like what you see? Visit the ' +\n",
              "            '<a target=\"_blank\" href=https://colab.research.google.com/notebooks/data_table.ipynb>data table notebook</a>'\n",
              "            + ' to learn more about interactive tables.';\n",
              "          element.innerHTML = '';\n",
              "          dataTable['output_type'] = 'display_data';\n",
              "          await google.colab.output.renderOutput(dataTable, element);\n",
              "          const docLink = document.createElement('div');\n",
              "          docLink.innerHTML = docLinkHtml;\n",
              "          element.appendChild(docLink);\n",
              "        }\n",
              "      </script>\n",
              "    </div>\n",
              "  </div>\n",
              "  "
            ]
          },
          "metadata": {},
          "execution_count": 28
        }
      ]
    },
    {
      "cell_type": "code",
      "source": [
        "features['url_text'] = features[\"site_url\"].astype(str) + \" \" + features[\"text_without_stopwords\"]\n",
        "features.drop(['site_url', 'text_without_stopwords'], axis = 1, inplace = True)"
      ],
      "metadata": {
        "colab": {
          "base_uri": "https://localhost:8080/"
        },
        "id": "E5I3NAxz_U9K",
        "outputId": "75530136-a9d5-4946-8860-b5d912532706"
      },
      "execution_count": null,
      "outputs": [
        {
          "output_type": "stream",
          "name": "stderr",
          "text": [
            "/usr/local/lib/python3.7/dist-packages/ipykernel_launcher.py:1: SettingWithCopyWarning: \n",
            "A value is trying to be set on a copy of a slice from a DataFrame.\n",
            "Try using .loc[row_indexer,col_indexer] = value instead\n",
            "\n",
            "See the caveats in the documentation: https://pandas.pydata.org/pandas-docs/stable/user_guide/indexing.html#returning-a-view-versus-a-copy\n",
            "  \"\"\"Entry point for launching an IPython kernel.\n",
            "/usr/local/lib/python3.7/dist-packages/pandas/core/frame.py:4913: SettingWithCopyWarning: \n",
            "A value is trying to be set on a copy of a slice from a DataFrame\n",
            "\n",
            "See the caveats in the documentation: https://pandas.pydata.org/pandas-docs/stable/user_guide/indexing.html#returning-a-view-versus-a-copy\n",
            "  errors=errors,\n"
          ]
        }
      ]
    },
    {
      "cell_type": "code",
      "source": [
        "x = features\n",
        "y = data['label']"
      ],
      "metadata": {
        "id": "ge-R5UEv_fK8"
      },
      "execution_count": null,
      "outputs": []
    },
    {
      "cell_type": "code",
      "source": [
        "y = y.tolist()"
      ],
      "metadata": {
        "id": "c7RpaglR_mlc"
      },
      "execution_count": null,
      "outputs": []
    },
    {
      "cell_type": "markdown",
      "source": [
        "##Splitting the Data into Train and Test subsets.\n",
        "\n",
        "###Training :- The dataset upon which the model would be trained on.\n",
        "\n",
        "###Testing :- The dataset upon which the model would be tested against"
      ],
      "metadata": {
        "id": "vHQR_x8DW34j"
      }
    },
    {
      "cell_type": "code",
      "source": [
        "x_train,x_test,y_train,y_test=train_test_split(x,y,test_size=0.20)\n",
        "\n",
        "tfidf_vect = TfidfVectorizer(stop_words = 'english')\n",
        "tfidf_train = tfidf_vect.fit_transform(x_train['url_text'])\n",
        "tfidf_test = tfidf_vect.transform(x_test['url_text'])\n",
        "tfidf_df = pd.DataFrame(tfidf_train.A, columns=tfidf_vect.get_feature_names())"
      ],
      "metadata": {
        "colab": {
          "base_uri": "https://localhost:8080/"
        },
        "id": "tN0zah4x_xn3",
        "outputId": "58b0cbfb-3639-48ec-e5fa-0a4977dfeddc"
      },
      "execution_count": null,
      "outputs": [
        {
          "output_type": "stream",
          "name": "stderr",
          "text": [
            "/usr/local/lib/python3.7/dist-packages/sklearn/utils/deprecation.py:87: FutureWarning: Function get_feature_names is deprecated; get_feature_names is deprecated in 1.0 and will be removed in 1.2. Please use get_feature_names_out instead.\n",
            "  warnings.warn(msg, category=FutureWarning)\n"
          ]
        }
      ]
    },
    {
      "cell_type": "markdown",
      "source": [
        "# **Model 1 : Random Forest**\n",
        "Random forest is a Supervised Machine Learning Algorithm that is used widely in Classification and Regression problems. It builds decision trees on different samples and takes their majority vote for classification and average in case of regression."
      ],
      "metadata": {
        "id": "UyT8REGeR_LB"
      }
    },
    {
      "cell_type": "code",
      "source": [
        "Random = RandomForestClassifier(n_estimators=150,random_state=0)\n",
        "Random.fit(tfidf_train,y_train)\n",
        "y_pred = Random.predict(tfidf_test)"
      ],
      "metadata": {
        "id": "WGmS0FNf_1Ql"
      },
      "execution_count": null,
      "outputs": []
    },
    {
      "cell_type": "markdown",
      "source": [
        "## The Confusion Matrix corresponding to the Random Forest Model."
      ],
      "metadata": {
        "id": "ive415LyYlj2"
      }
    },
    {
      "cell_type": "code",
      "source": [
        "from sklearn.metrics import confusion_matrix\n",
        "from sklearn.metrics import classification_report\n",
        "from mlxtend.plotting import plot_confusion_matrix\n",
        "\n",
        "cm=confusion_matrix(y_test, y_pred)\n",
        "\n",
        "fig, ax = plot_confusion_matrix(conf_mat=cm,\n",
        "                                show_absolute=True,\n",
        "                                show_normed=True,\n",
        "                                colorbar=True)"
      ],
      "metadata": {
        "colab": {
          "base_uri": "https://localhost:8080/",
          "height": 285
        },
        "id": "TlyPJqk9Abdk",
        "outputId": "16a68ac3-3212-47c2-c509-f17b6712fc77"
      },
      "execution_count": null,
      "outputs": [
        {
          "output_type": "display_data",
          "data": {
            "text/plain": [
              "<Figure size 432x288 with 2 Axes>"
            ],
            "image/png": "[encoded data removed]"
          },
          "metadata": {}
        }
      ]
    },
    {
      "cell_type": "markdown",
      "source": [
        "We can get the numbers of `True Positives, True Negatives, False Positives and False Negatives` from the above confusion matrix.   \n"
      ],
      "metadata": {
        "id": "xQ30vPXWBFs1"
      }
    },
    {
      "cell_type": "code",
      "source": [
        "# from the confusion matrix\n",
        "TP = true_pos = 115\n",
        "TN = true_neg = 253\n",
        "FP = false_pos = 9\n",
        "FN = false_neg = 32"
      ],
      "metadata": {
        "id": "JtsbqU7EAjN2"
      },
      "execution_count": null,
      "outputs": []
    },
    {
      "cell_type": "code",
      "source": [
        "results = {}"
      ],
      "metadata": {
        "id": "5s8WW2TrA6te"
      },
      "execution_count": null,
      "outputs": []
    },
    {
      "cell_type": "markdown",
      "source": [
        "#### Accuracy \n",
        "Accuracy is defined as the number of examples correctly predicted to the total number of examples. \n",
        "![alt text](https://wikimedia.org/api/rest_v1/media/math/render/svg/c72ec21ef2505c2d376e96197637fc64f75e5891)"
      ],
      "metadata": {
        "id": "P7QXfOEQBaT_"
      }
    },
    {
      "cell_type": "code",
      "source": [
        "metric = \"ACC\"\n",
        "results[metric] = (TP + TN) / (TP + TN + FP + FN)\n",
        "print(f\"{metric} is {results[metric]: .3f}\")"
      ],
      "metadata": {
        "colab": {
          "base_uri": "https://localhost:8080/"
        },
        "id": "alQLP438BTAU",
        "outputId": "b1243fa6-d443-4a96-f6ff-f328ec5c27b8"
      },
      "execution_count": null,
      "outputs": [
        {
          "output_type": "stream",
          "name": "stdout",
          "text": [
            "ACC is  0.900\n"
          ]
        }
      ]
    },
    {
      "cell_type": "markdown",
      "source": [
        "#### True Positive Rate\n",
        "number of samples actually positive and predicted as  `Positive` / total number of samples actually `Positive`  \n",
        "Also called **Sensitivity or Recall**.  \n",
        "![alt text](https://wikimedia.org/api/rest_v1/media/math/render/svg/64d5540cbadeb83f864d7a731b7ab43cccd0f353)"
      ],
      "metadata": {
        "id": "qUnhPbFQBrPx"
      }
    },
    {
      "cell_type": "code",
      "source": [
        "# Sensitivity or Recall\n",
        "metric = \"TPR\"\n",
        "results[metric] = TP / (TP + FN)\n",
        "print(f\"{metric} is {results[metric]: .3f}\")"
      ],
      "metadata": {
        "colab": {
          "base_uri": "https://localhost:8080/"
        },
        "id": "6TfkX-COBezK",
        "outputId": "38444e4e-3f69-4f4d-f72d-bb7dca77837c"
      },
      "execution_count": null,
      "outputs": [
        {
          "output_type": "stream",
          "name": "stdout",
          "text": [
            "TPR is  0.782\n"
          ]
        }
      ]
    },
    {
      "cell_type": "markdown",
      "source": [
        "#### True Negative Rate\n",
        "number of samples actually negative and predicted as  `Negative` / total number of samples actually  `Negative`  \n",
        "Also called **Specificity**.  \n",
        "![alt text](https://wikimedia.org/api/rest_v1/media/math/render/svg/aac65b6586cb61c1268403895012c2a8f19b0c5e)"
      ],
      "metadata": {
        "id": "7swfg2JSB4pV"
      }
    },
    {
      "cell_type": "code",
      "source": [
        "# Specificity\n",
        "metric = \"TNR\"\n",
        "results[metric] = TN / (TN + FP)\n",
        "print(f\"{metric} is {results[metric]: .3f}\")"
      ],
      "metadata": {
        "colab": {
          "base_uri": "https://localhost:8080/"
        },
        "id": "Ij_Ry9ReByGQ",
        "outputId": "7067b4bd-15df-45ca-db09-dcd7a61aea35"
      },
      "execution_count": null,
      "outputs": [
        {
          "output_type": "stream",
          "name": "stdout",
          "text": [
            "TNR is  0.966\n"
          ]
        }
      ]
    },
    {
      "cell_type": "code",
      "source": [
        "# Precision\n",
        "metric = \"PPV\"\n",
        "results[metric] = TP / (TP + FP)\n",
        "print(f\"{metric} is {results[metric]: .3f}\")"
      ],
      "metadata": {
        "colab": {
          "base_uri": "https://localhost:8080/"
        },
        "id": "ZTDu9pR_B9Q7",
        "outputId": "e4cebea4-558a-45b6-eb4f-308dee96740c"
      },
      "execution_count": null,
      "outputs": [
        {
          "output_type": "stream",
          "name": "stdout",
          "text": [
            "PPV is  0.927\n"
          ]
        }
      ]
    },
    {
      "cell_type": "code",
      "source": [
        "metric = \"NPV\"\n",
        "results[metric] = TN / (TN + FN)\n",
        "print(f\"{metric} is {results[metric]: .3f}\")"
      ],
      "metadata": {
        "colab": {
          "base_uri": "https://localhost:8080/"
        },
        "id": "bnwBGhiACGxu",
        "outputId": "08ca34ff-a357-46d1-fb43-3d2fd1dfc1cb"
      },
      "execution_count": null,
      "outputs": [
        {
          "output_type": "stream",
          "name": "stdout",
          "text": [
            "NPV is  0.888\n"
          ]
        }
      ]
    },
    {
      "cell_type": "markdown",
      "source": [
        "## Calculating the F1 score corresponding to the Random Forest Model.\n",
        "Harmonic Mean of Precision and Recall.  \n",
        "![alt text](https://wikimedia.org/api/rest_v1/media/math/render/svg/5663ca95d471868169c4e4ea57c936f1b6f4a588)"
      ],
      "metadata": {
        "id": "8nEhW2q7CPrP"
      }
    },
    {
      "cell_type": "code",
      "source": [
        "metric = \"F1\"\n",
        "results[metric] = 2 / (1 / results[\"PPV\"] + 1 / results[\"TPR\"])\n",
        "print(f\"{metric} is {results[metric]: .3f}\")"
      ],
      "metadata": {
        "colab": {
          "base_uri": "https://localhost:8080/"
        },
        "id": "Qgr0X01_CK0O",
        "outputId": "3436d049-f7b4-44ce-ed75-7968b8823f24"
      },
      "execution_count": null,
      "outputs": [
        {
          "output_type": "stream",
          "name": "stdout",
          "text": [
            "F1 is  0.849\n"
          ]
        }
      ]
    },
    {
      "cell_type": "markdown",
      "source": [
        "The Accuracy and F1 Score corresponding to the Random Forest Model :-\n",
        "\n",
        "\n",
        "1. Accuracy(ACC) = 0.900\n",
        "2. F1 Score(F1) = 0.772\n",
        "\n",
        "\n"
      ],
      "metadata": {
        "id": "dhr7u5RRa0JU"
      }
    },
    {
      "cell_type": "markdown",
      "source": [
        "#**Model 2 : Decision Tree**\n",
        "Decision trees are a type of Supervised Machine Learning models where the data is continuously split according to a certain parameter."
      ],
      "metadata": {
        "id": "5TqFJG-ubsot"
      }
    },
    {
      "cell_type": "code",
      "source": [
        "Adab = AdaBoostClassifier(DecisionTreeClassifier(max_depth=10),n_estimators=5,random_state=0)\n",
        "Adab.fit(tfidf_train, y_train)\n",
        "y_pred = Adab.predict(tfidf_test)\n"
      ],
      "metadata": {
        "id": "L1-tz9YCCVA8"
      },
      "execution_count": null,
      "outputs": []
    },
    {
      "cell_type": "markdown",
      "source": [
        "## The Confusion Matrix corresponding to the Decision Tree Model."
      ],
      "metadata": {
        "id": "qVO7SuxHcSjB"
      }
    },
    {
      "cell_type": "code",
      "source": [
        "cm=confusion_matrix(y_test, y_pred)\n",
        "\n",
        "fig, ax = plot_confusion_matrix(conf_mat=cm,\n",
        "                                show_absolute=True,\n",
        "                                show_normed=True,\n",
        "                                colorbar=True)"
      ],
      "metadata": {
        "colab": {
          "base_uri": "https://localhost:8080/",
          "height": 285
        },
        "id": "lKr-4NR8Cpwp",
        "outputId": "67ced13a-66de-4bed-d120-aa207ab217a3"
      },
      "execution_count": null,
      "outputs": [
        {
          "output_type": "display_data",
          "data": {
            "text/plain": [
              "<Figure size 432x288 with 2 Axes>"
            ],
            "image/png": "[encoded data removed]"
          },
          "metadata": {}
        }
      ]
    },
    {
      "cell_type": "markdown",
      "source": [
        "Calculating True Positives, True Negatives, False Positives and False Negatives."
      ],
      "metadata": {
        "id": "pbmpZLTXcjDS"
      }
    },
    {
      "cell_type": "code",
      "source": [
        "TP = true_pos = 146\n",
        "TN = true_neg = 258\n",
        "FP = false_pos = 4\n",
        "FN = false_neg = 1"
      ],
      "metadata": {
        "id": "veKhhBilC5Yq"
      },
      "execution_count": null,
      "outputs": []
    },
    {
      "cell_type": "code",
      "source": [
        "results = {}"
      ],
      "metadata": {
        "id": "RcaW7vwEDMIa"
      },
      "execution_count": null,
      "outputs": []
    },
    {
      "cell_type": "markdown",
      "source": [
        "## Accuracy"
      ],
      "metadata": {
        "id": "eu7iIWdrc2eE"
      }
    },
    {
      "cell_type": "code",
      "source": [
        "metric = \"ACC\"\n",
        "results[metric] = (TP + TN) / (TP + TN + FP + FN)\n",
        "print(f\"{metric} is {results[metric]: .3f}\")"
      ],
      "metadata": {
        "colab": {
          "base_uri": "https://localhost:8080/"
        },
        "id": "gxiJHew0DGmz",
        "outputId": "186a3307-0a46-4990-8f2a-bdeba37be40f"
      },
      "execution_count": null,
      "outputs": [
        {
          "output_type": "stream",
          "name": "stdout",
          "text": [
            "ACC is  0.988\n"
          ]
        }
      ]
    },
    {
      "cell_type": "code",
      "source": [
        "metric = \"TPR\"\n",
        "results[metric] = TP / (TP + FN)\n",
        "print(f\"{metric} is {results[metric]: .3f}\")"
      ],
      "metadata": {
        "colab": {
          "base_uri": "https://localhost:8080/"
        },
        "id": "tkZnqse0DnIl",
        "outputId": "0362cb1a-7ba5-4bae-8f52-49af4c3f23d0"
      },
      "execution_count": null,
      "outputs": [
        {
          "output_type": "stream",
          "name": "stdout",
          "text": [
            "TPR is  0.993\n"
          ]
        }
      ]
    },
    {
      "cell_type": "code",
      "source": [
        "metric = \"PPV\"\n",
        "results[metric] = TP / (TP + FP)\n",
        "print(f\"{metric} is {results[metric]: .3f}\")"
      ],
      "metadata": {
        "colab": {
          "base_uri": "https://localhost:8080/"
        },
        "id": "V1FLNfzYDoJx",
        "outputId": "7426f035-9ca4-4354-a700-d0c5f656d4a6"
      },
      "execution_count": null,
      "outputs": [
        {
          "output_type": "stream",
          "name": "stdout",
          "text": [
            "PPV is  0.973\n"
          ]
        }
      ]
    },
    {
      "cell_type": "markdown",
      "source": [
        "## Calculating the F1 Scrore corresponding to the Decision Tree model."
      ],
      "metadata": {
        "id": "s3Feeh6zdJVR"
      }
    },
    {
      "cell_type": "code",
      "source": [
        "metric = \"F1\"\n",
        "results[metric] = 2 / (1 / results[\"PPV\"] + 1 / results[\"TPR\"])\n",
        "print(f\"{metric} is {results[metric]: .3f}\")"
      ],
      "metadata": {
        "colab": {
          "base_uri": "https://localhost:8080/"
        },
        "id": "5ZR1ZzFeD1E7",
        "outputId": "541dcffa-2c8c-4be2-b611-b75dcabeff3a"
      },
      "execution_count": null,
      "outputs": [
        {
          "output_type": "stream",
          "name": "stdout",
          "text": [
            "F1 is  0.983\n"
          ]
        }
      ]
    },
    {
      "cell_type": "markdown",
      "source": [
        "The Accuracy and F1 Score corresponding to the Decision Tree Model :-\n",
        "\n",
        "\n",
        "\n",
        "1. Accuracy(ACC) = 0.988\n",
        "2. F1 Score(F1) = 0.983\n",
        "\n",
        "\n"
      ],
      "metadata": {
        "id": "lxOXQvBUdYEH"
      }
    },
    {
      "cell_type": "markdown",
      "source": [
        "#Predicting accuracy of few examples using Decision Tree Model:"
      ],
      "metadata": {
        "id": "aTgQeP9DHYpA"
      }
    },
    {
      "cell_type": "code",
      "source": [
        "import pandas as pd \n",
        "data=pd.read_csv('/content/news_articles.csv')\n",
        "author_dict = data[\"author\"].value_counts()\n",
        "print(author_dict )\n",
        "\n",
        "author_dict_new = {\n",
        "    'Barracuda Brigade': 2,\n",
        "    'Fed Up': 2,\n",
        "    'reasoning with facts': 1,\n",
        "    \n",
        "}\n",
        "\n",
        "print(author_dict_new)"
      ],
      "metadata": {
        "colab": {
          "base_uri": "https://localhost:8080/"
        },
        "id": "h9vcnWeEHylA",
        "outputId": "da38c465-1ad3-4709-e032-62bbdea081d6"
      },
      "execution_count": null,
      "outputs": [
        {
          "output_type": "stream",
          "name": "stdout",
          "text": [
            "No Author                              505\n",
            "Activist Post                           82\n",
            "EdJenner                                73\n",
            "noreply@blogger.com (Der Postillon)     72\n",
            "Anonymous                               58\n",
            "                                      ... \n",
            "Frontpagemag.com                         1\n",
            "Phyllis Chesler                          1\n",
            "Emma-Kate Symons                         1\n",
            "Ilana Mercer                             1\n",
            "Eddy Lavine                              1\n",
            "Name: author, Length: 491, dtype: int64\n",
            "{'Barracuda Brigade': 2, 'Fed Up': 2, 'reasoning with facts': 1}\n"
          ]
        }
      ]
    },
    {
      "cell_type": "code",
      "source": [
        "def author(x):\n",
        "    if str(x) in author_dict_new.keys():\n",
        "        return author_dict_new[str(x)]\n",
        "    else:\n",
        "        return author_dict_new['reasoning with facts']\n",
        "    \n",
        "data_l = data[\"author\"].apply(author)\n",
        "data['author'] = data_l\n",
        "data.head()"
      ],
      "metadata": {
        "colab": {
          "base_uri": "https://localhost:8080/",
          "height": 704
        },
        "id": "MdPYxjrvWcml",
        "outputId": "8e800014-ae87-4ffd-a187-270816a7f053"
      },
      "execution_count": null,
      "outputs": [
        {
          "output_type": "execute_result",
          "data": {
            "text/plain": [
              "   author                      published  \\\n",
              "0       2  2016-10-26T21:41:00.000+03:00   \n",
              "1       1  2016-10-29T08:47:11.259+03:00   \n",
              "2       2  2016-10-31T01:41:49.479+02:00   \n",
              "3       2  2016-11-01T05:22:00.000+02:00   \n",
              "4       2  2016-11-01T21:56:00.000+02:00   \n",
              "\n",
              "                                               title  \\\n",
              "0  muslims busted they stole millions in govt ben...   \n",
              "1  re why did attorney general loretta lynch plea...   \n",
              "2  breaking weiner cooperating with fbi on hillar...   \n",
              "3  pin drop speech by father of daughter kidnappe...   \n",
              "4  fantastic trumps  point plan to reform healthc...   \n",
              "\n",
              "                                                text language  \\\n",
              "0  print they should pay all the back all the mon...  english   \n",
              "1  why did attorney general loretta lynch plead t...  english   \n",
              "2  red state  \\nfox news sunday reported this mor...  english   \n",
              "3  email kayla mueller was a prisoner and torture...  english   \n",
              "4  email healthcare reform to make america great ...  english   \n",
              "\n",
              "              site_url                                       main_img_url  \\\n",
              "0  100percentfedup.com  http://bb4sp.com/wp-content/uploads/2016/10/Fu...   \n",
              "1  100percentfedup.com  http://bb4sp.com/wp-content/uploads/2016/10/Fu...   \n",
              "2  100percentfedup.com  http://bb4sp.com/wp-content/uploads/2016/10/Fu...   \n",
              "3  100percentfedup.com  http://100percentfedup.com/wp-content/uploads/...   \n",
              "4  100percentfedup.com  http://100percentfedup.com/wp-content/uploads/...   \n",
              "\n",
              "   type label                            title_without_stopwords  \\\n",
              "0  bias  Real        muslims busted stole millions govt benefits   \n",
              "1  bias  Real         attorney general loretta lynch plead fifth   \n",
              "2  bias  Real  breaking weiner cooperating fbi hillary email ...   \n",
              "3  bias  Real  pin drop speech father daughter kidnapped kill...   \n",
              "4  bias  Real  fantastic trumps point plan reform healthcare ...   \n",
              "\n",
              "                              text_without_stopwords  hasImage  \n",
              "0  print pay back money plus interest entire fami...       1.0  \n",
              "1  attorney general loretta lynch plead fifth bar...       1.0  \n",
              "2  red state fox news sunday reported morning ant...       1.0  \n",
              "3  email kayla mueller prisoner tortured isis cha...       1.0  \n",
              "4  email healthcare reform make america great sin...       1.0  "
            ],
            "text/html": [
              "\n",
              "  <div id=\"df-ab8c9779-207c-41f9-b4ab-bc82222f8126\">\n",
              "    <div class=\"colab-df-container\">\n",
              "      <div>\n",
              "<style scoped>\n",
              "    .dataframe tbody tr th:only-of-type {\n",
              "        vertical-align: middle;\n",
              "    }\n",
              "\n",
              "    .dataframe tbody tr th {\n",
              "        vertical-align: top;\n",
              "    }\n",
              "\n",
              "    .dataframe thead th {\n",
              "        text-align: right;\n",
              "    }\n",
              "</style>\n",
              "<table border=\"1\" class=\"dataframe\">\n",
              "  <thead>\n",
              "    <tr style=\"text-align: right;\">\n",
              "      <th></th>\n",
              "      <th>author</th>\n",
              "      <th>published</th>\n",
              "      <th>title</th>\n",
              "      <th>text</th>\n",
              "      <th>language</th>\n",
              "      <th>site_url</th>\n",
              "      <th>main_img_url</th>\n",
              "      <th>type</th>\n",
              "      <th>label</th>\n",
              "      <th>title_without_stopwords</th>\n",
              "      <th>text_without_stopwords</th>\n",
              "      <th>hasImage</th>\n",
              "    </tr>\n",
              "  </thead>\n",
              "  <tbody>\n",
              "    <tr>\n",
              "      <th>0</th>\n",
              "      <td>2</td>\n",
              "      <td>2016-10-26T21:41:00.000+03:00</td>\n",
              "      <td>muslims busted they stole millions in govt ben...</td>\n",
              "      <td>print they should pay all the back all the mon...</td>\n",
              "      <td>english</td>\n",
              "      <td>100percentfedup.com</td>\n",
              "      <td>http://bb4sp.com/wp-content/uploads/2016/10/Fu...</td>\n",
              "      <td>bias</td>\n",
              "      <td>Real</td>\n",
              "      <td>muslims busted stole millions govt benefits</td>\n",
              "      <td>print pay back money plus interest entire fami...</td>\n",
              "      <td>1.0</td>\n",
              "    </tr>\n",
              "    <tr>\n",
              "      <th>1</th>\n",
              "      <td>1</td>\n",
              "      <td>2016-10-29T08:47:11.259+03:00</td>\n",
              "      <td>re why did attorney general loretta lynch plea...</td>\n",
              "      <td>why did attorney general loretta lynch plead t...</td>\n",
              "      <td>english</td>\n",
              "      <td>100percentfedup.com</td>\n",
              "      <td>http://bb4sp.com/wp-content/uploads/2016/10/Fu...</td>\n",
              "      <td>bias</td>\n",
              "      <td>Real</td>\n",
              "      <td>attorney general loretta lynch plead fifth</td>\n",
              "      <td>attorney general loretta lynch plead fifth bar...</td>\n",
              "      <td>1.0</td>\n",
              "    </tr>\n",
              "    <tr>\n",
              "      <th>2</th>\n",
              "      <td>2</td>\n",
              "      <td>2016-10-31T01:41:49.479+02:00</td>\n",
              "      <td>breaking weiner cooperating with fbi on hillar...</td>\n",
              "      <td>red state  \\nfox news sunday reported this mor...</td>\n",
              "      <td>english</td>\n",
              "      <td>100percentfedup.com</td>\n",
              "      <td>http://bb4sp.com/wp-content/uploads/2016/10/Fu...</td>\n",
              "      <td>bias</td>\n",
              "      <td>Real</td>\n",
              "      <td>breaking weiner cooperating fbi hillary email ...</td>\n",
              "      <td>red state fox news sunday reported morning ant...</td>\n",
              "      <td>1.0</td>\n",
              "    </tr>\n",
              "    <tr>\n",
              "      <th>3</th>\n",
              "      <td>2</td>\n",
              "      <td>2016-11-01T05:22:00.000+02:00</td>\n",
              "      <td>pin drop speech by father of daughter kidnappe...</td>\n",
              "      <td>email kayla mueller was a prisoner and torture...</td>\n",
              "      <td>english</td>\n",
              "      <td>100percentfedup.com</td>\n",
              "      <td>http://100percentfedup.com/wp-content/uploads/...</td>\n",
              "      <td>bias</td>\n",
              "      <td>Real</td>\n",
              "      <td>pin drop speech father daughter kidnapped kill...</td>\n",
              "      <td>email kayla mueller prisoner tortured isis cha...</td>\n",
              "      <td>1.0</td>\n",
              "    </tr>\n",
              "    <tr>\n",
              "      <th>4</th>\n",
              "      <td>2</td>\n",
              "      <td>2016-11-01T21:56:00.000+02:00</td>\n",
              "      <td>fantastic trumps  point plan to reform healthc...</td>\n",
              "      <td>email healthcare reform to make america great ...</td>\n",
              "      <td>english</td>\n",
              "      <td>100percentfedup.com</td>\n",
              "      <td>http://100percentfedup.com/wp-content/uploads/...</td>\n",
              "      <td>bias</td>\n",
              "      <td>Real</td>\n",
              "      <td>fantastic trumps point plan reform healthcare ...</td>\n",
              "      <td>email healthcare reform make america great sin...</td>\n",
              "      <td>1.0</td>\n",
              "    </tr>\n",
              "  </tbody>\n",
              "</table>\n",
              "</div>\n",
              "      <button class=\"colab-df-convert\" onclick=\"convertToInteractive('df-ab8c9779-207c-41f9-b4ab-bc82222f8126')\"\n",
              "              title=\"Convert this dataframe to an interactive table.\"\n",
              "              style=\"display:none;\">\n",
              "        \n",
              "  <svg xmlns=\"http://www.w3.org/2000/svg\" height=\"24px\"viewBox=\"0 0 24 24\"\n",
              "       width=\"24px\">\n",
              "    <path d=\"M0 0h24v24H0V0z\" fill=\"none\"/>\n",
              "    <path d=\"M18.56 5.44l.94 2.06.94-2.06 2.06-.94-2.06-.94-.94-2.06-.94 2.06-2.06.94zm-11 1L8.5 8.5l.94-2.06 2.06-.94-2.06-.94L8.5 2.5l-.94 2.06-2.06.94zm10 10l.94 2.06.94-2.06 2.06-.94-2.06-.94-.94-2.06-.94 2.06-2.06.94z\"/><path d=\"M17.41 7.96l-1.37-1.37c-.4-.4-.92-.59-1.43-.59-.52 0-1.04.2-1.43.59L10.3 9.45l-7.72 7.72c-.78.78-.78 2.05 0 2.83L4 21.41c.39.39.9.59 1.41.59.51 0 1.02-.2 1.41-.59l7.78-7.78 2.81-2.81c.8-.78.8-2.07 0-2.86zM5.41 20L4 18.59l7.72-7.72 1.47 1.35L5.41 20z\"/>\n",
              "  </svg>\n",
              "      </button>\n",
              "      \n",
              "  <style>\n",
              "    .colab-df-container {\n",
              "      display:flex;\n",
              "      flex-wrap:wrap;\n",
              "      gap: 12px;\n",
              "    }\n",
              "\n",
              "    .colab-df-convert {\n",
              "      background-color: #E8F0FE;\n",
              "      border: none;\n",
              "      border-radius: 50%;\n",
              "      cursor: pointer;\n",
              "      display: none;\n",
              "      fill: #1967D2;\n",
              "      height: 32px;\n",
              "      padding: 0 0 0 0;\n",
              "      width: 32px;\n",
              "    }\n",
              "\n",
              "    .colab-df-convert:hover {\n",
              "      background-color: #E2EBFA;\n",
              "      box-shadow: 0px 1px 2px rgba(60, 64, 67, 0.3), 0px 1px 3px 1px rgba(60, 64, 67, 0.15);\n",
              "      fill: #174EA6;\n",
              "    }\n",
              "\n",
              "    [theme=dark] .colab-df-convert {\n",
              "      background-color: #3B4455;\n",
              "      fill: #D2E3FC;\n",
              "    }\n",
              "\n",
              "    [theme=dark] .colab-df-convert:hover {\n",
              "      background-color: #434B5C;\n",
              "      box-shadow: 0px 1px 3px 1px rgba(0, 0, 0, 0.15);\n",
              "      filter: drop-shadow(0px 1px 2px rgba(0, 0, 0, 0.3));\n",
              "      fill: #FFFFFF;\n",
              "    }\n",
              "  </style>\n",
              "\n",
              "      <script>\n",
              "        const buttonEl =\n",
              "          document.querySelector('#df-ab8c9779-207c-41f9-b4ab-bc82222f8126 button.colab-df-convert');\n",
              "        buttonEl.style.display =\n",
              "          google.colab.kernel.accessAllowed ? 'block' : 'none';\n",
              "\n",
              "        async function convertToInteractive(key) {\n",
              "          const element = document.querySelector('#df-ab8c9779-207c-41f9-b4ab-bc82222f8126');\n",
              "          const dataTable =\n",
              "            await google.colab.kernel.invokeFunction('convertToInteractive',\n",
              "                                                     [key], {});\n",
              "          if (!dataTable) return;\n",
              "\n",
              "          const docLinkHtml = 'Like what you see? Visit the ' +\n",
              "            '<a target=\"_blank\" href=https://colab.research.google.com/notebooks/data_table.ipynb>data table notebook</a>'\n",
              "            + ' to learn more about interactive tables.';\n",
              "          element.innerHTML = '';\n",
              "          dataTable['output_type'] = 'display_data';\n",
              "          await google.colab.output.renderOutput(dataTable, element);\n",
              "          const docLink = document.createElement('div');\n",
              "          docLink.innerHTML = docLinkHtml;\n",
              "          element.appendChild(docLink);\n",
              "        }\n",
              "      </script>\n",
              "    </div>\n",
              "  </div>\n",
              "  "
            ]
          },
          "metadata": {},
          "execution_count": 53
        }
      ]
    },
    {
      "cell_type": "code",
      "source": [
        "label= pd.get_dummies(data[\"label\"])\n",
        "label.head()"
      ],
      "metadata": {
        "colab": {
          "base_uri": "https://localhost:8080/",
          "height": 206
        },
        "id": "9HGR_Z28Wthc",
        "outputId": "666e95d5-6a56-4aff-c9ce-7740dfbb3c5b"
      },
      "execution_count": null,
      "outputs": [
        {
          "output_type": "execute_result",
          "data": {
            "text/plain": [
              "   Fake  Real\n",
              "0     0     1\n",
              "1     0     1\n",
              "2     0     1\n",
              "3     0     1\n",
              "4     0     1"
            ],
            "text/html": [
              "\n",
              "  <div id=\"df-bb7c5f75-2f51-4b17-83bf-8809890c3e5c\">\n",
              "    <div class=\"colab-df-container\">\n",
              "      <div>\n",
              "<style scoped>\n",
              "    .dataframe tbody tr th:only-of-type {\n",
              "        vertical-align: middle;\n",
              "    }\n",
              "\n",
              "    .dataframe tbody tr th {\n",
              "        vertical-align: top;\n",
              "    }\n",
              "\n",
              "    .dataframe thead th {\n",
              "        text-align: right;\n",
              "    }\n",
              "</style>\n",
              "<table border=\"1\" class=\"dataframe\">\n",
              "  <thead>\n",
              "    <tr style=\"text-align: right;\">\n",
              "      <th></th>\n",
              "      <th>Fake</th>\n",
              "      <th>Real</th>\n",
              "    </tr>\n",
              "  </thead>\n",
              "  <tbody>\n",
              "    <tr>\n",
              "      <th>0</th>\n",
              "      <td>0</td>\n",
              "      <td>1</td>\n",
              "    </tr>\n",
              "    <tr>\n",
              "      <th>1</th>\n",
              "      <td>0</td>\n",
              "      <td>1</td>\n",
              "    </tr>\n",
              "    <tr>\n",
              "      <th>2</th>\n",
              "      <td>0</td>\n",
              "      <td>1</td>\n",
              "    </tr>\n",
              "    <tr>\n",
              "      <th>3</th>\n",
              "      <td>0</td>\n",
              "      <td>1</td>\n",
              "    </tr>\n",
              "    <tr>\n",
              "      <th>4</th>\n",
              "      <td>0</td>\n",
              "      <td>1</td>\n",
              "    </tr>\n",
              "  </tbody>\n",
              "</table>\n",
              "</div>\n",
              "      <button class=\"colab-df-convert\" onclick=\"convertToInteractive('df-bb7c5f75-2f51-4b17-83bf-8809890c3e5c')\"\n",
              "              title=\"Convert this dataframe to an interactive table.\"\n",
              "              style=\"display:none;\">\n",
              "        \n",
              "  <svg xmlns=\"http://www.w3.org/2000/svg\" height=\"24px\"viewBox=\"0 0 24 24\"\n",
              "       width=\"24px\">\n",
              "    <path d=\"M0 0h24v24H0V0z\" fill=\"none\"/>\n",
              "    <path d=\"M18.56 5.44l.94 2.06.94-2.06 2.06-.94-2.06-.94-.94-2.06-.94 2.06-2.06.94zm-11 1L8.5 8.5l.94-2.06 2.06-.94-2.06-.94L8.5 2.5l-.94 2.06-2.06.94zm10 10l.94 2.06.94-2.06 2.06-.94-2.06-.94-.94-2.06-.94 2.06-2.06.94z\"/><path d=\"M17.41 7.96l-1.37-1.37c-.4-.4-.92-.59-1.43-.59-.52 0-1.04.2-1.43.59L10.3 9.45l-7.72 7.72c-.78.78-.78 2.05 0 2.83L4 21.41c.39.39.9.59 1.41.59.51 0 1.02-.2 1.41-.59l7.78-7.78 2.81-2.81c.8-.78.8-2.07 0-2.86zM5.41 20L4 18.59l7.72-7.72 1.47 1.35L5.41 20z\"/>\n",
              "  </svg>\n",
              "      </button>\n",
              "      \n",
              "  <style>\n",
              "    .colab-df-container {\n",
              "      display:flex;\n",
              "      flex-wrap:wrap;\n",
              "      gap: 12px;\n",
              "    }\n",
              "\n",
              "    .colab-df-convert {\n",
              "      background-color: #E8F0FE;\n",
              "      border: none;\n",
              "      border-radius: 50%;\n",
              "      cursor: pointer;\n",
              "      display: none;\n",
              "      fill: #1967D2;\n",
              "      height: 32px;\n",
              "      padding: 0 0 0 0;\n",
              "      width: 32px;\n",
              "    }\n",
              "\n",
              "    .colab-df-convert:hover {\n",
              "      background-color: #E2EBFA;\n",
              "      box-shadow: 0px 1px 2px rgba(60, 64, 67, 0.3), 0px 1px 3px 1px rgba(60, 64, 67, 0.15);\n",
              "      fill: #174EA6;\n",
              "    }\n",
              "\n",
              "    [theme=dark] .colab-df-convert {\n",
              "      background-color: #3B4455;\n",
              "      fill: #D2E3FC;\n",
              "    }\n",
              "\n",
              "    [theme=dark] .colab-df-convert:hover {\n",
              "      background-color: #434B5C;\n",
              "      box-shadow: 0px 1px 3px 1px rgba(0, 0, 0, 0.15);\n",
              "      filter: drop-shadow(0px 1px 2px rgba(0, 0, 0, 0.3));\n",
              "      fill: #FFFFFF;\n",
              "    }\n",
              "  </style>\n",
              "\n",
              "      <script>\n",
              "        const buttonEl =\n",
              "          document.querySelector('#df-bb7c5f75-2f51-4b17-83bf-8809890c3e5c button.colab-df-convert');\n",
              "        buttonEl.style.display =\n",
              "          google.colab.kernel.accessAllowed ? 'block' : 'none';\n",
              "\n",
              "        async function convertToInteractive(key) {\n",
              "          const element = document.querySelector('#df-bb7c5f75-2f51-4b17-83bf-8809890c3e5c');\n",
              "          const dataTable =\n",
              "            await google.colab.kernel.invokeFunction('convertToInteractive',\n",
              "                                                     [key], {});\n",
              "          if (!dataTable) return;\n",
              "\n",
              "          const docLinkHtml = 'Like what you see? Visit the ' +\n",
              "            '<a target=\"_blank\" href=https://colab.research.google.com/notebooks/data_table.ipynb>data table notebook</a>'\n",
              "            + ' to learn more about interactive tables.';\n",
              "          element.innerHTML = '';\n",
              "          dataTable['output_type'] = 'display_data';\n",
              "          await google.colab.output.renderOutput(dataTable, element);\n",
              "          const docLink = document.createElement('div');\n",
              "          docLink.innerHTML = docLinkHtml;\n",
              "          element.appendChild(docLink);\n",
              "        }\n",
              "      </script>\n",
              "    </div>\n",
              "  </div>\n",
              "  "
            ]
          },
          "metadata": {},
          "execution_count": 54
        }
      ]
    },
    {
      "cell_type": "markdown",
      "source": [
        "# **Model 3 : Support Vector Machine (SVM)**\n",
        "A support vector machine (SVM) is machine learning algorithm that analyzes data for classification and regression analysis. SVM is a supervised learning method that looks at data and sorts it into one of two categories."
      ],
      "metadata": {
        "id": "pe3YrueRdwx6"
      }
    },
    {
      "cell_type": "code",
      "source": [
        "from sklearn import svm\n",
        "\n",
        "clf = svm.SVC(kernel='linear')\n",
        "clf.fit(tfidf_train,y_train)\n",
        "y_pred = clf.predict(tfidf_test)"
      ],
      "metadata": {
        "id": "-mbkhvvxEVJQ"
      },
      "execution_count": null,
      "outputs": []
    },
    {
      "cell_type": "markdown",
      "source": [
        "## The Confusion Matrix corresponding to the Support Vector Machine Model."
      ],
      "metadata": {
        "id": "MYik6YXDeOjF"
      }
    },
    {
      "cell_type": "code",
      "source": [
        "cm=confusion_matrix(y_test, y_pred)\n",
        "\n",
        "fig, ax = plot_confusion_matrix(conf_mat=cm,\n",
        "                                show_absolute=True,\n",
        "                                show_normed=True,\n",
        "                                colorbar=True)"
      ],
      "metadata": {
        "colab": {
          "base_uri": "https://localhost:8080/",
          "height": 285
        },
        "id": "wnhTpN0_FwWo",
        "outputId": "8015173f-f8d6-4324-8701-582ad1ad5403"
      },
      "execution_count": null,
      "outputs": [
        {
          "output_type": "display_data",
          "data": {
            "text/plain": [
              "<Figure size 432x288 with 2 Axes>"
            ],
            "image/png": "[encoded data removed]"
          },
          "metadata": {}
        }
      ]
    },
    {
      "cell_type": "markdown",
      "source": [
        "Calculating True Positives, True Negatives, False Positives and False Negatives."
      ],
      "metadata": {
        "id": "i9Fe7biPeaEv"
      }
    },
    {
      "cell_type": "code",
      "source": [
        "TP = true_pos = 103\n",
        "TN = true_neg = 245\n",
        "FP = false_pos = 17\n",
        "FN = false_neg = 44"
      ],
      "metadata": {
        "id": "rpmP21mnILAg"
      },
      "execution_count": null,
      "outputs": []
    },
    {
      "cell_type": "code",
      "source": [
        "results = {}"
      ],
      "metadata": {
        "id": "JNmXhyygIVcN"
      },
      "execution_count": null,
      "outputs": []
    },
    {
      "cell_type": "markdown",
      "source": [
        "## Accuracy"
      ],
      "metadata": {
        "id": "5UfADzc1eiMd"
      }
    },
    {
      "cell_type": "code",
      "source": [
        "metric = \"ACC\"\n",
        "results[metric] = (TP + TN) / (TP + TN + FP + FN)\n",
        "print(f\"{metric} is {results[metric]: .3f}\")"
      ],
      "metadata": {
        "colab": {
          "base_uri": "https://localhost:8080/"
        },
        "id": "u0F2Y9JeIZL9",
        "outputId": "2a7e4fa9-7f93-42d6-b9d2-e5c77134fc9b"
      },
      "execution_count": null,
      "outputs": [
        {
          "output_type": "stream",
          "name": "stdout",
          "text": [
            "ACC is  0.851\n"
          ]
        }
      ]
    },
    {
      "cell_type": "code",
      "source": [
        "metric = \"TPR\"\n",
        "results[metric] = TP / (TP + FN)\n",
        "print(f\"{metric} is {results[metric]: .3f}\")"
      ],
      "metadata": {
        "colab": {
          "base_uri": "https://localhost:8080/"
        },
        "id": "4uUeYWXHIdL_",
        "outputId": "e88c721d-c003-4fd9-ba70-a1e0867a9679"
      },
      "execution_count": null,
      "outputs": [
        {
          "output_type": "stream",
          "name": "stdout",
          "text": [
            "TPR is  0.701\n"
          ]
        }
      ]
    },
    {
      "cell_type": "code",
      "source": [
        "metric = \"PPV\"\n",
        "results[metric] = TP / (TP + FP)\n",
        "print(f\"{metric} is {results[metric]: .3f}\")"
      ],
      "metadata": {
        "colab": {
          "base_uri": "https://localhost:8080/"
        },
        "id": "t1my8uZ5IhxX",
        "outputId": "1a6296c2-d787-4069-9e64-91bdf51e7883"
      },
      "execution_count": null,
      "outputs": [
        {
          "output_type": "stream",
          "name": "stdout",
          "text": [
            "PPV is  0.858\n"
          ]
        }
      ]
    },
    {
      "cell_type": "markdown",
      "source": [
        "## Calculating the F1 Scrore corresponding to the Support Vector Machine Model."
      ],
      "metadata": {
        "id": "BC26AGDveqA8"
      }
    },
    {
      "cell_type": "code",
      "source": [
        "metric = \"F1\"\n",
        "results[metric] = 2 / (1 / results[\"PPV\"] + 1 / results[\"TPR\"])\n",
        "print(f\"{metric} is {results[metric]: .3f}\")"
      ],
      "metadata": {
        "colab": {
          "base_uri": "https://localhost:8080/"
        },
        "id": "oNcdlnW4IlS1",
        "outputId": "17b9b670-0950-4fc6-b779-b1472e91f9bb"
      },
      "execution_count": null,
      "outputs": [
        {
          "output_type": "stream",
          "name": "stdout",
          "text": [
            "F1 is  0.772\n"
          ]
        }
      ]
    },
    {
      "cell_type": "markdown",
      "source": [
        "The Accuracy and F1 Score corresponding to the Support Vector machine Model :-\n",
        "\n",
        "1. Accuracy(ACC) = 0.851\n",
        "2. F1 Score(F1) = 0.772\n",
        "\n",
        "\n",
        "\n",
        "\n"
      ],
      "metadata": {
        "id": "emwb57oqe2ue"
      }
    },
    {
      "cell_type": "markdown",
      "source": [
        "# **The best out of these three models is the Decision Tree Model.**\n",
        "# **We chose the Decision Tree over other models because:**\n",
        "\n",
        "## 1. Decision Tree model gave the most Accurate results with an accuracy of 98.8%.\n",
        "## 2. Decision trees are one of the best forms of learning algorithms based on various learning methods.\n",
        "## 3. They boost predictive models with accuracy, ease in interpretation, and stability.\n",
        "## 4. The tools are also effective in fitting non-linear relationships since they can solve data-fitting challenges, such as regression and classifications and our Dataset was a Non-Linear one.\n",
        "## 5. Decision Trees are easy to read and interpret, easy to prepare and requires less data cleaning.\n",
        "\n",
        "\n",
        "\n"
      ],
      "metadata": {
        "id": "VdjXQfvphhn2"
      }
    }
  ],
  "metadata": {
    "colab": {
      "provenance": []
    },
    "kernelspec": {
      "display_name": "Python 3",
      "name": "python3"
    },
    "language_info": {
      "name": "python"
    }
  },
  "nbformat": 4,
  "nbformat_minor": 0
}